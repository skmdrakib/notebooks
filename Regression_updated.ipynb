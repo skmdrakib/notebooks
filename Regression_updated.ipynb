{
  "cells": [
    {
      "cell_type": "markdown",
      "metadata": {
        "id": "XWltAB2jdlMB"
      },
      "source": [
        "# Supervised Machine Learning\n",
        "\n",
        "The majority of practical machine learning uses supervised learning.\n",
        "\n",
        "Supervised learning is where you have input variables (X) and an output variable (Y) and you use an algorithm to learn the mapping function from the input to the output.\n",
        "\n",
        "Y = f(X)\n",
        "\n",
        "The goal is to approximate the mapping function so well that when you have new input data (X) that you can predict the output variables (y) for that data.\n",
        "\n",
        "It is called supervised learning because the process of an algorithm learning from the training dataset can be thought of as a teacher supervising the learning process. We know the correct answers, the algorithm iteratively makes predictions on the training data and is corrected by the teacher. Learning stops when the algorithm achieves an acceptable level of performance."
      ]
    },
    {
      "cell_type": "code",
      "execution_count": 130,
      "metadata": {
        "id": "9ExhDBTHdlMD"
      },
      "outputs": [],
      "source": [
        "# 1. Supervised ML -> If the historical output available - Regression, classification\n",
        "# 2. Unsupervised ML -> If the historical output not available - clustering"
      ]
    },
    {
      "cell_type": "markdown",
      "metadata": {
        "id": "kBM5wb7bulJ1"
      },
      "source": [
        "# Types of Modelling -\n",
        "\n",
        "- Regression Models -> where the output is continuous ( predicting the price of a product )\n",
        "- Classification Models -> where the output is a category / label ( discrete output ) - predicting cancer in a patient\n",
        "- Recommendation/Clustering Models -> where there is no output upfront, based on similarity, closeness to a group ( which has a preference )"
      ]
    },
    {
      "cell_type": "markdown",
      "metadata": {
        "id": "D4QQRhz4ulJ9"
      },
      "source": [
        "# Types of Learning -\n",
        "\n",
        "- Supervised - Regression, Classification\n",
        "- Unsupervised - Recommendation Model\n",
        "- Semisupervised - Some data available from the past - you use it for supervision and then predict for the remaining data for which you don't have the historical data\n"
      ]
    },
    {
      "cell_type": "markdown",
      "metadata": {
        "id": "HHOowjSVulKC"
      },
      "source": [
        "# Types of Relationships -\n",
        "\n",
        "- Linear Relationship - straight line fitting - y = mx + c\n",
        "- Non Linear Relationship - y is not directly related - but has a equation ( non-linear ) between the 2 - y = 2*x^2 + 5 , y = e^x\n",
        "- Complex relationships - somewhere linear, somewhere non linear, mix of the two in different positions"
      ]
    },
    {
      "cell_type": "code",
      "execution_count": 131,
      "metadata": {
        "id": "-V3HkbNpdlME"
      },
      "outputs": [],
      "source": [
        "# If the number of input variables is less\n",
        "# then we can analyse relationship ( using scatter plot ) between input and output - individually\n",
        "# You understand the complexity of relationship between your input and output data\n",
        "# Linear Regression Model\n",
        "\n",
        "# 100 variables - Always start simple\n",
        "# simplest - Linear Regression - and then keep increasing the complexity of the model\n",
        "# observe the performance of the model and choose wisely"
      ]
    },
    {
      "cell_type": "code",
      "execution_count": 132,
      "metadata": {
        "id": "h6WlrXKhdlME"
      },
      "outputs": [],
      "source": [
        "# Multiple types of regression model\n",
        "# Linear Regression\n",
        "# Polynomial Regression\n",
        "# DT R\n",
        "# RF R\n",
        "# XG Boost R\n",
        "# DNN"
      ]
    },
    {
      "cell_type": "code",
      "execution_count": 133,
      "metadata": {
        "id": "TG5OFHLJdlME"
      },
      "outputs": [],
      "source": [
        "# Overfitting and Underfitting\n",
        "# Train and Test Split\n"
      ]
    },
    {
      "cell_type": "markdown",
      "metadata": {
        "id": "5gh9Mw7QulKF"
      },
      "source": [
        "# Regression Models -\n",
        "\n",
        "1. Linear Regression Model\n",
        "2. Multi Linear Regression Model\n",
        "3. Polynomial Regression Model"
      ]
    },
    {
      "cell_type": "markdown",
      "metadata": {
        "id": "69UaJTArulKG"
      },
      "source": [
        "### Linear Regression\n",
        "\n",
        "![](https://www.biomedware.com/files/documentation/spacestat/Statistics/Multivariate_Modeling/Regression/regression_line.png)\n",
        "\n",
        "Linear regression is one of the simplest supervised learning algorithms in our toolkit. Linear regression—and its extensions—continues to be a common and useful method of making predictions when the target vector is a quantitative value (e.g., home price, age).\n",
        "\n",
        "Linear regression models linear relationship among variables. An example of a linear relationship would be the number of stories a building has and the building’s height. In linear regression, we assume the effect of number of stories and building height is approximately constant, meaning a 20-story building will be roughly twice as high as a 10-story building, which will be roughly twice as high as a 5-story building.\n",
        "\n",
        "More generally, a linear model makes a prediction by simply computing a weighted sum of the input features, plus a constant called the bias term (also called the intercept term) as shown below:\n",
        "$$\\hat{y}=\\theta_0+\\theta_1x_1+\\theta_2x_2+...+\\theta_nx_n$$\n",
        "where\n",
        "\n",
        "* $\\hat{y}$ is the predicted value\n",
        "* $n$ is the number of features\n",
        "* $x_i$ is the ith feature value\n",
        "* $\\theta_1,\\theta_2,...,\\theta_n$ are feature weights (parameters or coefficients) and $\\theta_0$ is the bias term (or intercept)"
      ]
    },
    {
      "cell_type": "code",
      "execution_count": 134,
      "metadata": {
        "id": "L9PCaMnQulKJ"
      },
      "outputs": [],
      "source": [
        "# y  = ax + b # Univariate\n",
        "# y = ax1 + bx2 + c # more than 2 variables - Multivariate\n",
        "# y = ax^2 + bz^2 +c # At least one power of input variables >1 # Polynomial Regression"
      ]
    },
    {
      "cell_type": "markdown",
      "metadata": {
        "id": "x1b8XZqnulKM"
      },
      "source": [
        "Why are we learning linear regression?\n",
        "- widely used\n",
        "- runs fast\n",
        "- easy to use (not a lot of tuning required)\n",
        "- highly interpretable\n",
        "- basis for many other methods"
      ]
    },
    {
      "cell_type": "markdown",
      "metadata": {
        "id": "2LkhlvhhdlMG"
      },
      "source": [
        "# Regression Case Study: Old car price prediction\n",
        "\n",
        "Problem Statement: Predict the price of a second hand car based on its features\n",
        "* Target Variable: price\n",
        "* Predictor Variables: Age of car, Fuel Type, Kms driven etc."
      ]
    },
    {
      "cell_type": "markdown",
      "metadata": {
        "id": "WnlfkKWNdlMG"
      },
      "source": [
        "## Exploring the data"
      ]
    },
    {
      "cell_type": "code",
      "execution_count": 135,
      "metadata": {
        "colab": {
          "base_uri": "https://localhost:8080/"
        },
        "id": "rXbyScbodlMG",
        "outputId": "3df8de78-8905-4883-d423-a8f710f340c4"
      },
      "outputs": [
        {
          "output_type": "stream",
          "name": "stdout",
          "text": [
            "Requirement already satisfied: pip in /usr/local/lib/python3.10/dist-packages (24.1.2)\n",
            "\u001b[33mWARNING: Running pip as the 'root' user can result in broken permissions and conflicting behaviour with the system package manager, possibly rendering your system unusable.It is recommended to use a virtual environment instead: https://pip.pypa.io/warnings/venv. Use the --root-user-action option if you know what you are doing and want to suppress this warning.\u001b[0m\u001b[33m\n",
            "\u001b[0m"
          ]
        }
      ],
      "source": [
        "%pip install --upgrade pip"
      ]
    },
    {
      "cell_type": "code",
      "execution_count": 136,
      "metadata": {
        "id": "ghOXq2qQdlMH",
        "scrolled": false
      },
      "outputs": [],
      "source": [
        "# %pip install -r requirements.txt"
      ]
    },
    {
      "cell_type": "code",
      "execution_count": 137,
      "metadata": {
        "id": "9lG-RpKRdlMH"
      },
      "outputs": [],
      "source": [
        "#%pip install seaborn"
      ]
    },
    {
      "cell_type": "code",
      "execution_count": 138,
      "metadata": {
        "id": "iUvy7O9KdlMH"
      },
      "outputs": [],
      "source": [
        "# Reading the dataset\n",
        "import os\n",
        "import pandas as pd\n",
        "import numpy as np\n",
        "import matplotlib.pyplot as plt\n",
        "import seaborn as sns\n",
        "import warnings\n",
        "warnings.filterwarnings(\"ignore\")"
      ]
    },
    {
      "cell_type": "code",
      "execution_count": 139,
      "metadata": {
        "colab": {
          "base_uri": "https://localhost:8080/"
        },
        "id": "leXOt0JDdlMH",
        "outputId": "ac94a0fb-89ef-4374-f42a-61f5d6b33d88"
      },
      "outputs": [
        {
          "output_type": "stream",
          "name": "stdout",
          "text": [
            "Shape before deleting duplicate values: (1436, 10)\n"
          ]
        }
      ],
      "source": [
        "CarPricesData=pd.read_csv(\"CarPricesData.csv\", encoding='latin')\n",
        "print('Shape before deleting duplicate values:', CarPricesData.shape)"
      ]
    },
    {
      "cell_type": "code",
      "execution_count": 140,
      "metadata": {
        "colab": {
          "base_uri": "https://localhost:8080/",
          "height": 206
        },
        "id": "eYYFfdrkdlMH",
        "outputId": "57da12ae-d0bb-4ab4-ad3b-dd5b565c8cc8"
      },
      "outputs": [
        {
          "output_type": "execute_result",
          "data": {
            "text/plain": [
              "   Price   Age     KM FuelType  HP  MetColor  Automatic      CC  Doors  Weight\n",
              "0  13500  23.0  46986   Diesel  90         1          0  2000.0      3  1165.0\n",
              "1  13750  23.0  72937   Diesel  90         1          0  2000.0      3  1165.0\n",
              "2  13950  24.0  41711   Diesel  90         1          0  2000.0      3  1165.0\n",
              "3  14950  26.0  48000   Diesel  90         0          0  2000.0      3  1165.0\n",
              "4  13750  30.0  38500   Diesel  90         0          0  2000.0      3  1170.0"
            ],
            "text/html": [
              "\n",
              "  <div id=\"df-7814bf76-67af-45f6-93d8-9473eaa3a1ee\" class=\"colab-df-container\">\n",
              "    <div>\n",
              "<style scoped>\n",
              "    .dataframe tbody tr th:only-of-type {\n",
              "        vertical-align: middle;\n",
              "    }\n",
              "\n",
              "    .dataframe tbody tr th {\n",
              "        vertical-align: top;\n",
              "    }\n",
              "\n",
              "    .dataframe thead th {\n",
              "        text-align: right;\n",
              "    }\n",
              "</style>\n",
              "<table border=\"1\" class=\"dataframe\">\n",
              "  <thead>\n",
              "    <tr style=\"text-align: right;\">\n",
              "      <th></th>\n",
              "      <th>Price</th>\n",
              "      <th>Age</th>\n",
              "      <th>KM</th>\n",
              "      <th>FuelType</th>\n",
              "      <th>HP</th>\n",
              "      <th>MetColor</th>\n",
              "      <th>Automatic</th>\n",
              "      <th>CC</th>\n",
              "      <th>Doors</th>\n",
              "      <th>Weight</th>\n",
              "    </tr>\n",
              "  </thead>\n",
              "  <tbody>\n",
              "    <tr>\n",
              "      <th>0</th>\n",
              "      <td>13500</td>\n",
              "      <td>23.0</td>\n",
              "      <td>46986</td>\n",
              "      <td>Diesel</td>\n",
              "      <td>90</td>\n",
              "      <td>1</td>\n",
              "      <td>0</td>\n",
              "      <td>2000.0</td>\n",
              "      <td>3</td>\n",
              "      <td>1165.0</td>\n",
              "    </tr>\n",
              "    <tr>\n",
              "      <th>1</th>\n",
              "      <td>13750</td>\n",
              "      <td>23.0</td>\n",
              "      <td>72937</td>\n",
              "      <td>Diesel</td>\n",
              "      <td>90</td>\n",
              "      <td>1</td>\n",
              "      <td>0</td>\n",
              "      <td>2000.0</td>\n",
              "      <td>3</td>\n",
              "      <td>1165.0</td>\n",
              "    </tr>\n",
              "    <tr>\n",
              "      <th>2</th>\n",
              "      <td>13950</td>\n",
              "      <td>24.0</td>\n",
              "      <td>41711</td>\n",
              "      <td>Diesel</td>\n",
              "      <td>90</td>\n",
              "      <td>1</td>\n",
              "      <td>0</td>\n",
              "      <td>2000.0</td>\n",
              "      <td>3</td>\n",
              "      <td>1165.0</td>\n",
              "    </tr>\n",
              "    <tr>\n",
              "      <th>3</th>\n",
              "      <td>14950</td>\n",
              "      <td>26.0</td>\n",
              "      <td>48000</td>\n",
              "      <td>Diesel</td>\n",
              "      <td>90</td>\n",
              "      <td>0</td>\n",
              "      <td>0</td>\n",
              "      <td>2000.0</td>\n",
              "      <td>3</td>\n",
              "      <td>1165.0</td>\n",
              "    </tr>\n",
              "    <tr>\n",
              "      <th>4</th>\n",
              "      <td>13750</td>\n",
              "      <td>30.0</td>\n",
              "      <td>38500</td>\n",
              "      <td>Diesel</td>\n",
              "      <td>90</td>\n",
              "      <td>0</td>\n",
              "      <td>0</td>\n",
              "      <td>2000.0</td>\n",
              "      <td>3</td>\n",
              "      <td>1170.0</td>\n",
              "    </tr>\n",
              "  </tbody>\n",
              "</table>\n",
              "</div>\n",
              "    <div class=\"colab-df-buttons\">\n",
              "\n",
              "  <div class=\"colab-df-container\">\n",
              "    <button class=\"colab-df-convert\" onclick=\"convertToInteractive('df-7814bf76-67af-45f6-93d8-9473eaa3a1ee')\"\n",
              "            title=\"Convert this dataframe to an interactive table.\"\n",
              "            style=\"display:none;\">\n",
              "\n",
              "  <svg xmlns=\"http://www.w3.org/2000/svg\" height=\"24px\" viewBox=\"0 -960 960 960\">\n",
              "    <path d=\"M120-120v-720h720v720H120Zm60-500h600v-160H180v160Zm220 220h160v-160H400v160Zm0 220h160v-160H400v160ZM180-400h160v-160H180v160Zm440 0h160v-160H620v160ZM180-180h160v-160H180v160Zm440 0h160v-160H620v160Z\"/>\n",
              "  </svg>\n",
              "    </button>\n",
              "\n",
              "  <style>\n",
              "    .colab-df-container {\n",
              "      display:flex;\n",
              "      gap: 12px;\n",
              "    }\n",
              "\n",
              "    .colab-df-convert {\n",
              "      background-color: #E8F0FE;\n",
              "      border: none;\n",
              "      border-radius: 50%;\n",
              "      cursor: pointer;\n",
              "      display: none;\n",
              "      fill: #1967D2;\n",
              "      height: 32px;\n",
              "      padding: 0 0 0 0;\n",
              "      width: 32px;\n",
              "    }\n",
              "\n",
              "    .colab-df-convert:hover {\n",
              "      background-color: #E2EBFA;\n",
              "      box-shadow: 0px 1px 2px rgba(60, 64, 67, 0.3), 0px 1px 3px 1px rgba(60, 64, 67, 0.15);\n",
              "      fill: #174EA6;\n",
              "    }\n",
              "\n",
              "    .colab-df-buttons div {\n",
              "      margin-bottom: 4px;\n",
              "    }\n",
              "\n",
              "    [theme=dark] .colab-df-convert {\n",
              "      background-color: #3B4455;\n",
              "      fill: #D2E3FC;\n",
              "    }\n",
              "\n",
              "    [theme=dark] .colab-df-convert:hover {\n",
              "      background-color: #434B5C;\n",
              "      box-shadow: 0px 1px 3px 1px rgba(0, 0, 0, 0.15);\n",
              "      filter: drop-shadow(0px 1px 2px rgba(0, 0, 0, 0.3));\n",
              "      fill: #FFFFFF;\n",
              "    }\n",
              "  </style>\n",
              "\n",
              "    <script>\n",
              "      const buttonEl =\n",
              "        document.querySelector('#df-7814bf76-67af-45f6-93d8-9473eaa3a1ee button.colab-df-convert');\n",
              "      buttonEl.style.display =\n",
              "        google.colab.kernel.accessAllowed ? 'block' : 'none';\n",
              "\n",
              "      async function convertToInteractive(key) {\n",
              "        const element = document.querySelector('#df-7814bf76-67af-45f6-93d8-9473eaa3a1ee');\n",
              "        const dataTable =\n",
              "          await google.colab.kernel.invokeFunction('convertToInteractive',\n",
              "                                                    [key], {});\n",
              "        if (!dataTable) return;\n",
              "\n",
              "        const docLinkHtml = 'Like what you see? Visit the ' +\n",
              "          '<a target=\"_blank\" href=https://colab.research.google.com/notebooks/data_table.ipynb>data table notebook</a>'\n",
              "          + ' to learn more about interactive tables.';\n",
              "        element.innerHTML = '';\n",
              "        dataTable['output_type'] = 'display_data';\n",
              "        await google.colab.output.renderOutput(dataTable, element);\n",
              "        const docLink = document.createElement('div');\n",
              "        docLink.innerHTML = docLinkHtml;\n",
              "        element.appendChild(docLink);\n",
              "      }\n",
              "    </script>\n",
              "  </div>\n",
              "\n",
              "\n",
              "<div id=\"df-051da332-5e74-4012-baee-2b659e8ca086\">\n",
              "  <button class=\"colab-df-quickchart\" onclick=\"quickchart('df-051da332-5e74-4012-baee-2b659e8ca086')\"\n",
              "            title=\"Suggest charts\"\n",
              "            style=\"display:none;\">\n",
              "\n",
              "<svg xmlns=\"http://www.w3.org/2000/svg\" height=\"24px\"viewBox=\"0 0 24 24\"\n",
              "     width=\"24px\">\n",
              "    <g>\n",
              "        <path d=\"M19 3H5c-1.1 0-2 .9-2 2v14c0 1.1.9 2 2 2h14c1.1 0 2-.9 2-2V5c0-1.1-.9-2-2-2zM9 17H7v-7h2v7zm4 0h-2V7h2v10zm4 0h-2v-4h2v4z\"/>\n",
              "    </g>\n",
              "</svg>\n",
              "  </button>\n",
              "\n",
              "<style>\n",
              "  .colab-df-quickchart {\n",
              "      --bg-color: #E8F0FE;\n",
              "      --fill-color: #1967D2;\n",
              "      --hover-bg-color: #E2EBFA;\n",
              "      --hover-fill-color: #174EA6;\n",
              "      --disabled-fill-color: #AAA;\n",
              "      --disabled-bg-color: #DDD;\n",
              "  }\n",
              "\n",
              "  [theme=dark] .colab-df-quickchart {\n",
              "      --bg-color: #3B4455;\n",
              "      --fill-color: #D2E3FC;\n",
              "      --hover-bg-color: #434B5C;\n",
              "      --hover-fill-color: #FFFFFF;\n",
              "      --disabled-bg-color: #3B4455;\n",
              "      --disabled-fill-color: #666;\n",
              "  }\n",
              "\n",
              "  .colab-df-quickchart {\n",
              "    background-color: var(--bg-color);\n",
              "    border: none;\n",
              "    border-radius: 50%;\n",
              "    cursor: pointer;\n",
              "    display: none;\n",
              "    fill: var(--fill-color);\n",
              "    height: 32px;\n",
              "    padding: 0;\n",
              "    width: 32px;\n",
              "  }\n",
              "\n",
              "  .colab-df-quickchart:hover {\n",
              "    background-color: var(--hover-bg-color);\n",
              "    box-shadow: 0 1px 2px rgba(60, 64, 67, 0.3), 0 1px 3px 1px rgba(60, 64, 67, 0.15);\n",
              "    fill: var(--button-hover-fill-color);\n",
              "  }\n",
              "\n",
              "  .colab-df-quickchart-complete:disabled,\n",
              "  .colab-df-quickchart-complete:disabled:hover {\n",
              "    background-color: var(--disabled-bg-color);\n",
              "    fill: var(--disabled-fill-color);\n",
              "    box-shadow: none;\n",
              "  }\n",
              "\n",
              "  .colab-df-spinner {\n",
              "    border: 2px solid var(--fill-color);\n",
              "    border-color: transparent;\n",
              "    border-bottom-color: var(--fill-color);\n",
              "    animation:\n",
              "      spin 1s steps(1) infinite;\n",
              "  }\n",
              "\n",
              "  @keyframes spin {\n",
              "    0% {\n",
              "      border-color: transparent;\n",
              "      border-bottom-color: var(--fill-color);\n",
              "      border-left-color: var(--fill-color);\n",
              "    }\n",
              "    20% {\n",
              "      border-color: transparent;\n",
              "      border-left-color: var(--fill-color);\n",
              "      border-top-color: var(--fill-color);\n",
              "    }\n",
              "    30% {\n",
              "      border-color: transparent;\n",
              "      border-left-color: var(--fill-color);\n",
              "      border-top-color: var(--fill-color);\n",
              "      border-right-color: var(--fill-color);\n",
              "    }\n",
              "    40% {\n",
              "      border-color: transparent;\n",
              "      border-right-color: var(--fill-color);\n",
              "      border-top-color: var(--fill-color);\n",
              "    }\n",
              "    60% {\n",
              "      border-color: transparent;\n",
              "      border-right-color: var(--fill-color);\n",
              "    }\n",
              "    80% {\n",
              "      border-color: transparent;\n",
              "      border-right-color: var(--fill-color);\n",
              "      border-bottom-color: var(--fill-color);\n",
              "    }\n",
              "    90% {\n",
              "      border-color: transparent;\n",
              "      border-bottom-color: var(--fill-color);\n",
              "    }\n",
              "  }\n",
              "</style>\n",
              "\n",
              "  <script>\n",
              "    async function quickchart(key) {\n",
              "      const quickchartButtonEl =\n",
              "        document.querySelector('#' + key + ' button');\n",
              "      quickchartButtonEl.disabled = true;  // To prevent multiple clicks.\n",
              "      quickchartButtonEl.classList.add('colab-df-spinner');\n",
              "      try {\n",
              "        const charts = await google.colab.kernel.invokeFunction(\n",
              "            'suggestCharts', [key], {});\n",
              "      } catch (error) {\n",
              "        console.error('Error during call to suggestCharts:', error);\n",
              "      }\n",
              "      quickchartButtonEl.classList.remove('colab-df-spinner');\n",
              "      quickchartButtonEl.classList.add('colab-df-quickchart-complete');\n",
              "    }\n",
              "    (() => {\n",
              "      let quickchartButtonEl =\n",
              "        document.querySelector('#df-051da332-5e74-4012-baee-2b659e8ca086 button');\n",
              "      quickchartButtonEl.style.display =\n",
              "        google.colab.kernel.accessAllowed ? 'block' : 'none';\n",
              "    })();\n",
              "  </script>\n",
              "</div>\n",
              "\n",
              "    </div>\n",
              "  </div>\n"
            ],
            "application/vnd.google.colaboratory.intrinsic+json": {
              "type": "dataframe",
              "variable_name": "CarPricesData",
              "summary": "{\n  \"name\": \"CarPricesData\",\n  \"rows\": 1436,\n  \"fields\": [\n    {\n      \"column\": \"Price\",\n      \"properties\": {\n        \"dtype\": \"number\",\n        \"std\": 3626,\n        \"min\": 4350,\n        \"max\": 32500,\n        \"num_unique_values\": 236,\n        \"samples\": [\n          17795,\n          10350,\n          8995\n        ],\n        \"semantic_type\": \"\",\n        \"description\": \"\"\n      }\n    },\n    {\n      \"column\": \"Age\",\n      \"properties\": {\n        \"dtype\": \"number\",\n        \"std\": 18.58179609259971,\n        \"min\": 1.0,\n        \"max\": 80.0,\n        \"num_unique_values\": 77,\n        \"samples\": [\n          32.0,\n          39.0,\n          29.0\n        ],\n        \"semantic_type\": \"\",\n        \"description\": \"\"\n      }\n    },\n    {\n      \"column\": \"KM\",\n      \"properties\": {\n        \"dtype\": \"number\",\n        \"std\": 37506,\n        \"min\": 1,\n        \"max\": 243000,\n        \"num_unique_values\": 1263,\n        \"samples\": [\n          57829,\n          51000,\n          34882\n        ],\n        \"semantic_type\": \"\",\n        \"description\": \"\"\n      }\n    },\n    {\n      \"column\": \"FuelType\",\n      \"properties\": {\n        \"dtype\": \"category\",\n        \"num_unique_values\": 3,\n        \"samples\": [\n          \"Diesel\",\n          \"Petrol\",\n          \"CNG\"\n        ],\n        \"semantic_type\": \"\",\n        \"description\": \"\"\n      }\n    },\n    {\n      \"column\": \"HP\",\n      \"properties\": {\n        \"dtype\": \"number\",\n        \"std\": 14,\n        \"min\": 69,\n        \"max\": 192,\n        \"num_unique_values\": 12,\n        \"samples\": [\n          107,\n          72,\n          90\n        ],\n        \"semantic_type\": \"\",\n        \"description\": \"\"\n      }\n    },\n    {\n      \"column\": \"MetColor\",\n      \"properties\": {\n        \"dtype\": \"number\",\n        \"std\": 0,\n        \"min\": 0,\n        \"max\": 1,\n        \"num_unique_values\": 2,\n        \"samples\": [\n          0,\n          1\n        ],\n        \"semantic_type\": \"\",\n        \"description\": \"\"\n      }\n    },\n    {\n      \"column\": \"Automatic\",\n      \"properties\": {\n        \"dtype\": \"number\",\n        \"std\": 0,\n        \"min\": 0,\n        \"max\": 1,\n        \"num_unique_values\": 2,\n        \"samples\": [\n          1,\n          0\n        ],\n        \"semantic_type\": \"\",\n        \"description\": \"\"\n      }\n    },\n    {\n      \"column\": \"CC\",\n      \"properties\": {\n        \"dtype\": \"number\",\n        \"std\": 187.17822146039677,\n        \"min\": 1300.0,\n        \"max\": 2000.0,\n        \"num_unique_values\": 12,\n        \"samples\": [\n          1975.0,\n          1587.0\n        ],\n        \"semantic_type\": \"\",\n        \"description\": \"\"\n      }\n    },\n    {\n      \"column\": \"Doors\",\n      \"properties\": {\n        \"dtype\": \"number\",\n        \"std\": 0,\n        \"min\": 2,\n        \"max\": 5,\n        \"num_unique_values\": 4,\n        \"samples\": [\n          5,\n          2\n        ],\n        \"semantic_type\": \"\",\n        \"description\": \"\"\n      }\n    },\n    {\n      \"column\": \"Weight\",\n      \"properties\": {\n        \"dtype\": \"number\",\n        \"std\": 52.67247463457741,\n        \"min\": 1000.0,\n        \"max\": 1615.0,\n        \"num_unique_values\": 59,\n        \"samples\": [\n          1165.0,\n          1065.0\n        ],\n        \"semantic_type\": \"\",\n        \"description\": \"\"\n      }\n    }\n  ]\n}"
            }
          },
          "metadata": {},
          "execution_count": 140
        }
      ],
      "source": [
        "CarPricesData.head()"
      ]
    },
    {
      "cell_type": "code",
      "execution_count": 141,
      "metadata": {
        "colab": {
          "base_uri": "https://localhost:8080/"
        },
        "id": "OJQ3qgo2dlMI",
        "outputId": "af027592-73e5-4660-fc41-593b48ae7e52"
      },
      "outputs": [
        {
          "output_type": "stream",
          "name": "stdout",
          "text": [
            "False    1435\n",
            "True        1\n",
            "Name: count, dtype: int64\n",
            "Shape After deleting duplicate values: (1435, 10)\n"
          ]
        }
      ],
      "source": [
        "# Checking duplicates rows and Removing duplicate rows if any\n",
        "print(CarPricesData.duplicated().value_counts())\n",
        "CarPricesData.drop_duplicates(inplace = True)\n",
        "print('Shape After deleting duplicate values:', CarPricesData.shape)"
      ]
    },
    {
      "cell_type": "code",
      "execution_count": 142,
      "metadata": {
        "colab": {
          "base_uri": "https://localhost:8080/",
          "height": 206
        },
        "id": "C55b9i6mdlMI",
        "outputId": "76e7fee8-9e0f-4325-c519-7bc315749762"
      },
      "outputs": [
        {
          "output_type": "execute_result",
          "data": {
            "text/plain": [
              "   Price   Age     KM FuelType  HP  MetColor  Automatic      CC  Doors  Weight\n",
              "0  13500  23.0  46986   Diesel  90         1          0  2000.0      3  1165.0\n",
              "1  13750  23.0  72937   Diesel  90         1          0  2000.0      3  1165.0\n",
              "2  13950  24.0  41711   Diesel  90         1          0  2000.0      3  1165.0\n",
              "3  14950  26.0  48000   Diesel  90         0          0  2000.0      3  1165.0\n",
              "4  13750  30.0  38500   Diesel  90         0          0  2000.0      3  1170.0"
            ],
            "text/html": [
              "\n",
              "  <div id=\"df-c9d2354d-85d6-4a79-9c1e-25d43389fb65\" class=\"colab-df-container\">\n",
              "    <div>\n",
              "<style scoped>\n",
              "    .dataframe tbody tr th:only-of-type {\n",
              "        vertical-align: middle;\n",
              "    }\n",
              "\n",
              "    .dataframe tbody tr th {\n",
              "        vertical-align: top;\n",
              "    }\n",
              "\n",
              "    .dataframe thead th {\n",
              "        text-align: right;\n",
              "    }\n",
              "</style>\n",
              "<table border=\"1\" class=\"dataframe\">\n",
              "  <thead>\n",
              "    <tr style=\"text-align: right;\">\n",
              "      <th></th>\n",
              "      <th>Price</th>\n",
              "      <th>Age</th>\n",
              "      <th>KM</th>\n",
              "      <th>FuelType</th>\n",
              "      <th>HP</th>\n",
              "      <th>MetColor</th>\n",
              "      <th>Automatic</th>\n",
              "      <th>CC</th>\n",
              "      <th>Doors</th>\n",
              "      <th>Weight</th>\n",
              "    </tr>\n",
              "  </thead>\n",
              "  <tbody>\n",
              "    <tr>\n",
              "      <th>0</th>\n",
              "      <td>13500</td>\n",
              "      <td>23.0</td>\n",
              "      <td>46986</td>\n",
              "      <td>Diesel</td>\n",
              "      <td>90</td>\n",
              "      <td>1</td>\n",
              "      <td>0</td>\n",
              "      <td>2000.0</td>\n",
              "      <td>3</td>\n",
              "      <td>1165.0</td>\n",
              "    </tr>\n",
              "    <tr>\n",
              "      <th>1</th>\n",
              "      <td>13750</td>\n",
              "      <td>23.0</td>\n",
              "      <td>72937</td>\n",
              "      <td>Diesel</td>\n",
              "      <td>90</td>\n",
              "      <td>1</td>\n",
              "      <td>0</td>\n",
              "      <td>2000.0</td>\n",
              "      <td>3</td>\n",
              "      <td>1165.0</td>\n",
              "    </tr>\n",
              "    <tr>\n",
              "      <th>2</th>\n",
              "      <td>13950</td>\n",
              "      <td>24.0</td>\n",
              "      <td>41711</td>\n",
              "      <td>Diesel</td>\n",
              "      <td>90</td>\n",
              "      <td>1</td>\n",
              "      <td>0</td>\n",
              "      <td>2000.0</td>\n",
              "      <td>3</td>\n",
              "      <td>1165.0</td>\n",
              "    </tr>\n",
              "    <tr>\n",
              "      <th>3</th>\n",
              "      <td>14950</td>\n",
              "      <td>26.0</td>\n",
              "      <td>48000</td>\n",
              "      <td>Diesel</td>\n",
              "      <td>90</td>\n",
              "      <td>0</td>\n",
              "      <td>0</td>\n",
              "      <td>2000.0</td>\n",
              "      <td>3</td>\n",
              "      <td>1165.0</td>\n",
              "    </tr>\n",
              "    <tr>\n",
              "      <th>4</th>\n",
              "      <td>13750</td>\n",
              "      <td>30.0</td>\n",
              "      <td>38500</td>\n",
              "      <td>Diesel</td>\n",
              "      <td>90</td>\n",
              "      <td>0</td>\n",
              "      <td>0</td>\n",
              "      <td>2000.0</td>\n",
              "      <td>3</td>\n",
              "      <td>1170.0</td>\n",
              "    </tr>\n",
              "  </tbody>\n",
              "</table>\n",
              "</div>\n",
              "    <div class=\"colab-df-buttons\">\n",
              "\n",
              "  <div class=\"colab-df-container\">\n",
              "    <button class=\"colab-df-convert\" onclick=\"convertToInteractive('df-c9d2354d-85d6-4a79-9c1e-25d43389fb65')\"\n",
              "            title=\"Convert this dataframe to an interactive table.\"\n",
              "            style=\"display:none;\">\n",
              "\n",
              "  <svg xmlns=\"http://www.w3.org/2000/svg\" height=\"24px\" viewBox=\"0 -960 960 960\">\n",
              "    <path d=\"M120-120v-720h720v720H120Zm60-500h600v-160H180v160Zm220 220h160v-160H400v160Zm0 220h160v-160H400v160ZM180-400h160v-160H180v160Zm440 0h160v-160H620v160ZM180-180h160v-160H180v160Zm440 0h160v-160H620v160Z\"/>\n",
              "  </svg>\n",
              "    </button>\n",
              "\n",
              "  <style>\n",
              "    .colab-df-container {\n",
              "      display:flex;\n",
              "      gap: 12px;\n",
              "    }\n",
              "\n",
              "    .colab-df-convert {\n",
              "      background-color: #E8F0FE;\n",
              "      border: none;\n",
              "      border-radius: 50%;\n",
              "      cursor: pointer;\n",
              "      display: none;\n",
              "      fill: #1967D2;\n",
              "      height: 32px;\n",
              "      padding: 0 0 0 0;\n",
              "      width: 32px;\n",
              "    }\n",
              "\n",
              "    .colab-df-convert:hover {\n",
              "      background-color: #E2EBFA;\n",
              "      box-shadow: 0px 1px 2px rgba(60, 64, 67, 0.3), 0px 1px 3px 1px rgba(60, 64, 67, 0.15);\n",
              "      fill: #174EA6;\n",
              "    }\n",
              "\n",
              "    .colab-df-buttons div {\n",
              "      margin-bottom: 4px;\n",
              "    }\n",
              "\n",
              "    [theme=dark] .colab-df-convert {\n",
              "      background-color: #3B4455;\n",
              "      fill: #D2E3FC;\n",
              "    }\n",
              "\n",
              "    [theme=dark] .colab-df-convert:hover {\n",
              "      background-color: #434B5C;\n",
              "      box-shadow: 0px 1px 3px 1px rgba(0, 0, 0, 0.15);\n",
              "      filter: drop-shadow(0px 1px 2px rgba(0, 0, 0, 0.3));\n",
              "      fill: #FFFFFF;\n",
              "    }\n",
              "  </style>\n",
              "\n",
              "    <script>\n",
              "      const buttonEl =\n",
              "        document.querySelector('#df-c9d2354d-85d6-4a79-9c1e-25d43389fb65 button.colab-df-convert');\n",
              "      buttonEl.style.display =\n",
              "        google.colab.kernel.accessAllowed ? 'block' : 'none';\n",
              "\n",
              "      async function convertToInteractive(key) {\n",
              "        const element = document.querySelector('#df-c9d2354d-85d6-4a79-9c1e-25d43389fb65');\n",
              "        const dataTable =\n",
              "          await google.colab.kernel.invokeFunction('convertToInteractive',\n",
              "                                                    [key], {});\n",
              "        if (!dataTable) return;\n",
              "\n",
              "        const docLinkHtml = 'Like what you see? Visit the ' +\n",
              "          '<a target=\"_blank\" href=https://colab.research.google.com/notebooks/data_table.ipynb>data table notebook</a>'\n",
              "          + ' to learn more about interactive tables.';\n",
              "        element.innerHTML = '';\n",
              "        dataTable['output_type'] = 'display_data';\n",
              "        await google.colab.output.renderOutput(dataTable, element);\n",
              "        const docLink = document.createElement('div');\n",
              "        docLink.innerHTML = docLinkHtml;\n",
              "        element.appendChild(docLink);\n",
              "      }\n",
              "    </script>\n",
              "  </div>\n",
              "\n",
              "\n",
              "<div id=\"df-bf0bf919-0907-4b24-8456-f99fe677f438\">\n",
              "  <button class=\"colab-df-quickchart\" onclick=\"quickchart('df-bf0bf919-0907-4b24-8456-f99fe677f438')\"\n",
              "            title=\"Suggest charts\"\n",
              "            style=\"display:none;\">\n",
              "\n",
              "<svg xmlns=\"http://www.w3.org/2000/svg\" height=\"24px\"viewBox=\"0 0 24 24\"\n",
              "     width=\"24px\">\n",
              "    <g>\n",
              "        <path d=\"M19 3H5c-1.1 0-2 .9-2 2v14c0 1.1.9 2 2 2h14c1.1 0 2-.9 2-2V5c0-1.1-.9-2-2-2zM9 17H7v-7h2v7zm4 0h-2V7h2v10zm4 0h-2v-4h2v4z\"/>\n",
              "    </g>\n",
              "</svg>\n",
              "  </button>\n",
              "\n",
              "<style>\n",
              "  .colab-df-quickchart {\n",
              "      --bg-color: #E8F0FE;\n",
              "      --fill-color: #1967D2;\n",
              "      --hover-bg-color: #E2EBFA;\n",
              "      --hover-fill-color: #174EA6;\n",
              "      --disabled-fill-color: #AAA;\n",
              "      --disabled-bg-color: #DDD;\n",
              "  }\n",
              "\n",
              "  [theme=dark] .colab-df-quickchart {\n",
              "      --bg-color: #3B4455;\n",
              "      --fill-color: #D2E3FC;\n",
              "      --hover-bg-color: #434B5C;\n",
              "      --hover-fill-color: #FFFFFF;\n",
              "      --disabled-bg-color: #3B4455;\n",
              "      --disabled-fill-color: #666;\n",
              "  }\n",
              "\n",
              "  .colab-df-quickchart {\n",
              "    background-color: var(--bg-color);\n",
              "    border: none;\n",
              "    border-radius: 50%;\n",
              "    cursor: pointer;\n",
              "    display: none;\n",
              "    fill: var(--fill-color);\n",
              "    height: 32px;\n",
              "    padding: 0;\n",
              "    width: 32px;\n",
              "  }\n",
              "\n",
              "  .colab-df-quickchart:hover {\n",
              "    background-color: var(--hover-bg-color);\n",
              "    box-shadow: 0 1px 2px rgba(60, 64, 67, 0.3), 0 1px 3px 1px rgba(60, 64, 67, 0.15);\n",
              "    fill: var(--button-hover-fill-color);\n",
              "  }\n",
              "\n",
              "  .colab-df-quickchart-complete:disabled,\n",
              "  .colab-df-quickchart-complete:disabled:hover {\n",
              "    background-color: var(--disabled-bg-color);\n",
              "    fill: var(--disabled-fill-color);\n",
              "    box-shadow: none;\n",
              "  }\n",
              "\n",
              "  .colab-df-spinner {\n",
              "    border: 2px solid var(--fill-color);\n",
              "    border-color: transparent;\n",
              "    border-bottom-color: var(--fill-color);\n",
              "    animation:\n",
              "      spin 1s steps(1) infinite;\n",
              "  }\n",
              "\n",
              "  @keyframes spin {\n",
              "    0% {\n",
              "      border-color: transparent;\n",
              "      border-bottom-color: var(--fill-color);\n",
              "      border-left-color: var(--fill-color);\n",
              "    }\n",
              "    20% {\n",
              "      border-color: transparent;\n",
              "      border-left-color: var(--fill-color);\n",
              "      border-top-color: var(--fill-color);\n",
              "    }\n",
              "    30% {\n",
              "      border-color: transparent;\n",
              "      border-left-color: var(--fill-color);\n",
              "      border-top-color: var(--fill-color);\n",
              "      border-right-color: var(--fill-color);\n",
              "    }\n",
              "    40% {\n",
              "      border-color: transparent;\n",
              "      border-right-color: var(--fill-color);\n",
              "      border-top-color: var(--fill-color);\n",
              "    }\n",
              "    60% {\n",
              "      border-color: transparent;\n",
              "      border-right-color: var(--fill-color);\n",
              "    }\n",
              "    80% {\n",
              "      border-color: transparent;\n",
              "      border-right-color: var(--fill-color);\n",
              "      border-bottom-color: var(--fill-color);\n",
              "    }\n",
              "    90% {\n",
              "      border-color: transparent;\n",
              "      border-bottom-color: var(--fill-color);\n",
              "    }\n",
              "  }\n",
              "</style>\n",
              "\n",
              "  <script>\n",
              "    async function quickchart(key) {\n",
              "      const quickchartButtonEl =\n",
              "        document.querySelector('#' + key + ' button');\n",
              "      quickchartButtonEl.disabled = true;  // To prevent multiple clicks.\n",
              "      quickchartButtonEl.classList.add('colab-df-spinner');\n",
              "      try {\n",
              "        const charts = await google.colab.kernel.invokeFunction(\n",
              "            'suggestCharts', [key], {});\n",
              "      } catch (error) {\n",
              "        console.error('Error during call to suggestCharts:', error);\n",
              "      }\n",
              "      quickchartButtonEl.classList.remove('colab-df-spinner');\n",
              "      quickchartButtonEl.classList.add('colab-df-quickchart-complete');\n",
              "    }\n",
              "    (() => {\n",
              "      let quickchartButtonEl =\n",
              "        document.querySelector('#df-bf0bf919-0907-4b24-8456-f99fe677f438 button');\n",
              "      quickchartButtonEl.style.display =\n",
              "        google.colab.kernel.accessAllowed ? 'block' : 'none';\n",
              "    })();\n",
              "  </script>\n",
              "</div>\n",
              "\n",
              "    </div>\n",
              "  </div>\n"
            ],
            "application/vnd.google.colaboratory.intrinsic+json": {
              "type": "dataframe",
              "summary": "{\n  \"name\": \"# Start observing the Quantitative/Categorical/Qualitative variables\",\n  \"rows\": 5,\n  \"fields\": [\n    {\n      \"column\": \"Price\",\n      \"properties\": {\n        \"dtype\": \"number\",\n        \"std\": 565,\n        \"min\": 13500,\n        \"max\": 14950,\n        \"num_unique_values\": 4,\n        \"samples\": [\n          13750,\n          14950,\n          13500\n        ],\n        \"semantic_type\": \"\",\n        \"description\": \"\"\n      }\n    },\n    {\n      \"column\": \"Age\",\n      \"properties\": {\n        \"dtype\": \"number\",\n        \"std\": 2.949576240750525,\n        \"min\": 23.0,\n        \"max\": 30.0,\n        \"num_unique_values\": 4,\n        \"samples\": [\n          24.0,\n          30.0,\n          23.0\n        ],\n        \"semantic_type\": \"\",\n        \"description\": \"\"\n      }\n    },\n    {\n      \"column\": \"KM\",\n      \"properties\": {\n        \"dtype\": \"number\",\n        \"std\": 13596,\n        \"min\": 38500,\n        \"max\": 72937,\n        \"num_unique_values\": 5,\n        \"samples\": [\n          72937,\n          38500,\n          41711\n        ],\n        \"semantic_type\": \"\",\n        \"description\": \"\"\n      }\n    },\n    {\n      \"column\": \"FuelType\",\n      \"properties\": {\n        \"dtype\": \"category\",\n        \"num_unique_values\": 1,\n        \"samples\": [\n          \"Diesel\"\n        ],\n        \"semantic_type\": \"\",\n        \"description\": \"\"\n      }\n    },\n    {\n      \"column\": \"HP\",\n      \"properties\": {\n        \"dtype\": \"number\",\n        \"std\": 0,\n        \"min\": 90,\n        \"max\": 90,\n        \"num_unique_values\": 1,\n        \"samples\": [\n          90\n        ],\n        \"semantic_type\": \"\",\n        \"description\": \"\"\n      }\n    },\n    {\n      \"column\": \"MetColor\",\n      \"properties\": {\n        \"dtype\": \"number\",\n        \"std\": 0,\n        \"min\": 0,\n        \"max\": 1,\n        \"num_unique_values\": 2,\n        \"samples\": [\n          0\n        ],\n        \"semantic_type\": \"\",\n        \"description\": \"\"\n      }\n    },\n    {\n      \"column\": \"Automatic\",\n      \"properties\": {\n        \"dtype\": \"number\",\n        \"std\": 0,\n        \"min\": 0,\n        \"max\": 0,\n        \"num_unique_values\": 1,\n        \"samples\": [\n          0\n        ],\n        \"semantic_type\": \"\",\n        \"description\": \"\"\n      }\n    },\n    {\n      \"column\": \"CC\",\n      \"properties\": {\n        \"dtype\": \"number\",\n        \"std\": 0.0,\n        \"min\": 2000.0,\n        \"max\": 2000.0,\n        \"num_unique_values\": 1,\n        \"samples\": [\n          2000.0\n        ],\n        \"semantic_type\": \"\",\n        \"description\": \"\"\n      }\n    },\n    {\n      \"column\": \"Doors\",\n      \"properties\": {\n        \"dtype\": \"number\",\n        \"std\": 0,\n        \"min\": 3,\n        \"max\": 3,\n        \"num_unique_values\": 1,\n        \"samples\": [\n          3\n        ],\n        \"semantic_type\": \"\",\n        \"description\": \"\"\n      }\n    },\n    {\n      \"column\": \"Weight\",\n      \"properties\": {\n        \"dtype\": \"number\",\n        \"std\": 2.23606797749979,\n        \"min\": 1165.0,\n        \"max\": 1170.0,\n        \"num_unique_values\": 2,\n        \"samples\": [\n          1170.0\n        ],\n        \"semantic_type\": \"\",\n        \"description\": \"\"\n      }\n    }\n  ]\n}"
            }
          },
          "metadata": {},
          "execution_count": 142
        }
      ],
      "source": [
        "CarPricesData.head()\n",
        "# Start observing the Quantitative/Categorical/Qualitative variables"
      ]
    },
    {
      "cell_type": "code",
      "execution_count": 143,
      "metadata": {
        "colab": {
          "base_uri": "https://localhost:8080/"
        },
        "id": "nIU1lMNXdlMI",
        "outputId": "59c6ff2a-82fe-4d70-b701-191435421292"
      },
      "outputs": [
        {
          "output_type": "stream",
          "name": "stdout",
          "text": [
            "<class 'pandas.core.frame.DataFrame'>\n",
            "Index: 1435 entries, 0 to 1435\n",
            "Data columns (total 10 columns):\n",
            " #   Column     Non-Null Count  Dtype  \n",
            "---  ------     --------------  -----  \n",
            " 0   Price      1435 non-null   int64  \n",
            " 1   Age        1433 non-null   float64\n",
            " 2   KM         1435 non-null   int64  \n",
            " 3   FuelType   1431 non-null   object \n",
            " 4   HP         1435 non-null   int64  \n",
            " 5   MetColor   1435 non-null   int64  \n",
            " 6   Automatic  1435 non-null   int64  \n",
            " 7   CC         1433 non-null   float64\n",
            " 8   Doors      1435 non-null   int64  \n",
            " 9   Weight     1433 non-null   float64\n",
            "dtypes: float64(3), int64(6), object(1)\n",
            "memory usage: 123.3+ KB\n"
          ]
        }
      ],
      "source": [
        "# Observing the summarized information of data\n",
        "# Data types, Missing values etc.\n",
        "# Remove those variables from data which have too many missing values (Missing Values > 30%)\n",
        "CarPricesData.info()"
      ]
    },
    {
      "cell_type": "code",
      "execution_count": 144,
      "metadata": {
        "colab": {
          "base_uri": "https://localhost:8080/",
          "height": 394
        },
        "id": "xzEw3KCndlMI",
        "outputId": "c8190b89-9e5d-4a29-d8e0-36333bfae12d"
      },
      "outputs": [
        {
          "output_type": "execute_result",
          "data": {
            "text/plain": [
              "               Price          Age             KM FuelType           HP  \\\n",
              "count    1435.000000  1433.000000    1435.000000     1431  1435.000000   \n",
              "unique           NaN          NaN            NaN        3          NaN   \n",
              "top              NaN          NaN            NaN   Petrol          NaN   \n",
              "freq             NaN          NaN            NaN     1260          NaN   \n",
              "mean    10720.915679    56.020237   68571.782578      NaN   101.491986   \n",
              "std      3608.732978    18.544948   37491.094553      NaN    14.981408   \n",
              "min      4350.000000     1.000000       1.000000      NaN    69.000000   \n",
              "25%      8450.000000    44.000000   43000.000000      NaN    90.000000   \n",
              "50%      9900.000000    61.000000   63451.000000      NaN   110.000000   \n",
              "75%     11950.000000    70.000000   87041.500000      NaN   110.000000   \n",
              "max     32500.000000    80.000000  243000.000000      NaN   192.000000   \n",
              "\n",
              "           MetColor    Automatic           CC        Doors       Weight  \n",
              "count   1435.000000  1435.000000  1433.000000  1435.000000  1433.000000  \n",
              "unique          NaN          NaN          NaN          NaN          NaN  \n",
              "top             NaN          NaN          NaN          NaN          NaN  \n",
              "freq            NaN          NaN          NaN          NaN          NaN  \n",
              "mean       0.674564     0.055749  1566.688765     4.032753  1072.314724  \n",
              "std        0.468701     0.229517   186.893360     0.952667    52.283038  \n",
              "min        0.000000     0.000000  1300.000000     2.000000  1000.000000  \n",
              "25%        0.000000     0.000000  1400.000000     3.000000  1040.000000  \n",
              "50%        1.000000     0.000000  1600.000000     4.000000  1070.000000  \n",
              "75%        1.000000     0.000000  1600.000000     5.000000  1085.000000  \n",
              "max        1.000000     1.000000  2000.000000     5.000000  1615.000000  "
            ],
            "text/html": [
              "\n",
              "  <div id=\"df-248370eb-8940-4cd8-8f3c-27d65d12c93f\" class=\"colab-df-container\">\n",
              "    <div>\n",
              "<style scoped>\n",
              "    .dataframe tbody tr th:only-of-type {\n",
              "        vertical-align: middle;\n",
              "    }\n",
              "\n",
              "    .dataframe tbody tr th {\n",
              "        vertical-align: top;\n",
              "    }\n",
              "\n",
              "    .dataframe thead th {\n",
              "        text-align: right;\n",
              "    }\n",
              "</style>\n",
              "<table border=\"1\" class=\"dataframe\">\n",
              "  <thead>\n",
              "    <tr style=\"text-align: right;\">\n",
              "      <th></th>\n",
              "      <th>Price</th>\n",
              "      <th>Age</th>\n",
              "      <th>KM</th>\n",
              "      <th>FuelType</th>\n",
              "      <th>HP</th>\n",
              "      <th>MetColor</th>\n",
              "      <th>Automatic</th>\n",
              "      <th>CC</th>\n",
              "      <th>Doors</th>\n",
              "      <th>Weight</th>\n",
              "    </tr>\n",
              "  </thead>\n",
              "  <tbody>\n",
              "    <tr>\n",
              "      <th>count</th>\n",
              "      <td>1435.000000</td>\n",
              "      <td>1433.000000</td>\n",
              "      <td>1435.000000</td>\n",
              "      <td>1431</td>\n",
              "      <td>1435.000000</td>\n",
              "      <td>1435.000000</td>\n",
              "      <td>1435.000000</td>\n",
              "      <td>1433.000000</td>\n",
              "      <td>1435.000000</td>\n",
              "      <td>1433.000000</td>\n",
              "    </tr>\n",
              "    <tr>\n",
              "      <th>unique</th>\n",
              "      <td>NaN</td>\n",
              "      <td>NaN</td>\n",
              "      <td>NaN</td>\n",
              "      <td>3</td>\n",
              "      <td>NaN</td>\n",
              "      <td>NaN</td>\n",
              "      <td>NaN</td>\n",
              "      <td>NaN</td>\n",
              "      <td>NaN</td>\n",
              "      <td>NaN</td>\n",
              "    </tr>\n",
              "    <tr>\n",
              "      <th>top</th>\n",
              "      <td>NaN</td>\n",
              "      <td>NaN</td>\n",
              "      <td>NaN</td>\n",
              "      <td>Petrol</td>\n",
              "      <td>NaN</td>\n",
              "      <td>NaN</td>\n",
              "      <td>NaN</td>\n",
              "      <td>NaN</td>\n",
              "      <td>NaN</td>\n",
              "      <td>NaN</td>\n",
              "    </tr>\n",
              "    <tr>\n",
              "      <th>freq</th>\n",
              "      <td>NaN</td>\n",
              "      <td>NaN</td>\n",
              "      <td>NaN</td>\n",
              "      <td>1260</td>\n",
              "      <td>NaN</td>\n",
              "      <td>NaN</td>\n",
              "      <td>NaN</td>\n",
              "      <td>NaN</td>\n",
              "      <td>NaN</td>\n",
              "      <td>NaN</td>\n",
              "    </tr>\n",
              "    <tr>\n",
              "      <th>mean</th>\n",
              "      <td>10720.915679</td>\n",
              "      <td>56.020237</td>\n",
              "      <td>68571.782578</td>\n",
              "      <td>NaN</td>\n",
              "      <td>101.491986</td>\n",
              "      <td>0.674564</td>\n",
              "      <td>0.055749</td>\n",
              "      <td>1566.688765</td>\n",
              "      <td>4.032753</td>\n",
              "      <td>1072.314724</td>\n",
              "    </tr>\n",
              "    <tr>\n",
              "      <th>std</th>\n",
              "      <td>3608.732978</td>\n",
              "      <td>18.544948</td>\n",
              "      <td>37491.094553</td>\n",
              "      <td>NaN</td>\n",
              "      <td>14.981408</td>\n",
              "      <td>0.468701</td>\n",
              "      <td>0.229517</td>\n",
              "      <td>186.893360</td>\n",
              "      <td>0.952667</td>\n",
              "      <td>52.283038</td>\n",
              "    </tr>\n",
              "    <tr>\n",
              "      <th>min</th>\n",
              "      <td>4350.000000</td>\n",
              "      <td>1.000000</td>\n",
              "      <td>1.000000</td>\n",
              "      <td>NaN</td>\n",
              "      <td>69.000000</td>\n",
              "      <td>0.000000</td>\n",
              "      <td>0.000000</td>\n",
              "      <td>1300.000000</td>\n",
              "      <td>2.000000</td>\n",
              "      <td>1000.000000</td>\n",
              "    </tr>\n",
              "    <tr>\n",
              "      <th>25%</th>\n",
              "      <td>8450.000000</td>\n",
              "      <td>44.000000</td>\n",
              "      <td>43000.000000</td>\n",
              "      <td>NaN</td>\n",
              "      <td>90.000000</td>\n",
              "      <td>0.000000</td>\n",
              "      <td>0.000000</td>\n",
              "      <td>1400.000000</td>\n",
              "      <td>3.000000</td>\n",
              "      <td>1040.000000</td>\n",
              "    </tr>\n",
              "    <tr>\n",
              "      <th>50%</th>\n",
              "      <td>9900.000000</td>\n",
              "      <td>61.000000</td>\n",
              "      <td>63451.000000</td>\n",
              "      <td>NaN</td>\n",
              "      <td>110.000000</td>\n",
              "      <td>1.000000</td>\n",
              "      <td>0.000000</td>\n",
              "      <td>1600.000000</td>\n",
              "      <td>4.000000</td>\n",
              "      <td>1070.000000</td>\n",
              "    </tr>\n",
              "    <tr>\n",
              "      <th>75%</th>\n",
              "      <td>11950.000000</td>\n",
              "      <td>70.000000</td>\n",
              "      <td>87041.500000</td>\n",
              "      <td>NaN</td>\n",
              "      <td>110.000000</td>\n",
              "      <td>1.000000</td>\n",
              "      <td>0.000000</td>\n",
              "      <td>1600.000000</td>\n",
              "      <td>5.000000</td>\n",
              "      <td>1085.000000</td>\n",
              "    </tr>\n",
              "    <tr>\n",
              "      <th>max</th>\n",
              "      <td>32500.000000</td>\n",
              "      <td>80.000000</td>\n",
              "      <td>243000.000000</td>\n",
              "      <td>NaN</td>\n",
              "      <td>192.000000</td>\n",
              "      <td>1.000000</td>\n",
              "      <td>1.000000</td>\n",
              "      <td>2000.000000</td>\n",
              "      <td>5.000000</td>\n",
              "      <td>1615.000000</td>\n",
              "    </tr>\n",
              "  </tbody>\n",
              "</table>\n",
              "</div>\n",
              "    <div class=\"colab-df-buttons\">\n",
              "\n",
              "  <div class=\"colab-df-container\">\n",
              "    <button class=\"colab-df-convert\" onclick=\"convertToInteractive('df-248370eb-8940-4cd8-8f3c-27d65d12c93f')\"\n",
              "            title=\"Convert this dataframe to an interactive table.\"\n",
              "            style=\"display:none;\">\n",
              "\n",
              "  <svg xmlns=\"http://www.w3.org/2000/svg\" height=\"24px\" viewBox=\"0 -960 960 960\">\n",
              "    <path d=\"M120-120v-720h720v720H120Zm60-500h600v-160H180v160Zm220 220h160v-160H400v160Zm0 220h160v-160H400v160ZM180-400h160v-160H180v160Zm440 0h160v-160H620v160ZM180-180h160v-160H180v160Zm440 0h160v-160H620v160Z\"/>\n",
              "  </svg>\n",
              "    </button>\n",
              "\n",
              "  <style>\n",
              "    .colab-df-container {\n",
              "      display:flex;\n",
              "      gap: 12px;\n",
              "    }\n",
              "\n",
              "    .colab-df-convert {\n",
              "      background-color: #E8F0FE;\n",
              "      border: none;\n",
              "      border-radius: 50%;\n",
              "      cursor: pointer;\n",
              "      display: none;\n",
              "      fill: #1967D2;\n",
              "      height: 32px;\n",
              "      padding: 0 0 0 0;\n",
              "      width: 32px;\n",
              "    }\n",
              "\n",
              "    .colab-df-convert:hover {\n",
              "      background-color: #E2EBFA;\n",
              "      box-shadow: 0px 1px 2px rgba(60, 64, 67, 0.3), 0px 1px 3px 1px rgba(60, 64, 67, 0.15);\n",
              "      fill: #174EA6;\n",
              "    }\n",
              "\n",
              "    .colab-df-buttons div {\n",
              "      margin-bottom: 4px;\n",
              "    }\n",
              "\n",
              "    [theme=dark] .colab-df-convert {\n",
              "      background-color: #3B4455;\n",
              "      fill: #D2E3FC;\n",
              "    }\n",
              "\n",
              "    [theme=dark] .colab-df-convert:hover {\n",
              "      background-color: #434B5C;\n",
              "      box-shadow: 0px 1px 3px 1px rgba(0, 0, 0, 0.15);\n",
              "      filter: drop-shadow(0px 1px 2px rgba(0, 0, 0, 0.3));\n",
              "      fill: #FFFFFF;\n",
              "    }\n",
              "  </style>\n",
              "\n",
              "    <script>\n",
              "      const buttonEl =\n",
              "        document.querySelector('#df-248370eb-8940-4cd8-8f3c-27d65d12c93f button.colab-df-convert');\n",
              "      buttonEl.style.display =\n",
              "        google.colab.kernel.accessAllowed ? 'block' : 'none';\n",
              "\n",
              "      async function convertToInteractive(key) {\n",
              "        const element = document.querySelector('#df-248370eb-8940-4cd8-8f3c-27d65d12c93f');\n",
              "        const dataTable =\n",
              "          await google.colab.kernel.invokeFunction('convertToInteractive',\n",
              "                                                    [key], {});\n",
              "        if (!dataTable) return;\n",
              "\n",
              "        const docLinkHtml = 'Like what you see? Visit the ' +\n",
              "          '<a target=\"_blank\" href=https://colab.research.google.com/notebooks/data_table.ipynb>data table notebook</a>'\n",
              "          + ' to learn more about interactive tables.';\n",
              "        element.innerHTML = '';\n",
              "        dataTable['output_type'] = 'display_data';\n",
              "        await google.colab.output.renderOutput(dataTable, element);\n",
              "        const docLink = document.createElement('div');\n",
              "        docLink.innerHTML = docLinkHtml;\n",
              "        element.appendChild(docLink);\n",
              "      }\n",
              "    </script>\n",
              "  </div>\n",
              "\n",
              "\n",
              "<div id=\"df-2f37d705-8fc5-43ff-9250-79160ef2d192\">\n",
              "  <button class=\"colab-df-quickchart\" onclick=\"quickchart('df-2f37d705-8fc5-43ff-9250-79160ef2d192')\"\n",
              "            title=\"Suggest charts\"\n",
              "            style=\"display:none;\">\n",
              "\n",
              "<svg xmlns=\"http://www.w3.org/2000/svg\" height=\"24px\"viewBox=\"0 0 24 24\"\n",
              "     width=\"24px\">\n",
              "    <g>\n",
              "        <path d=\"M19 3H5c-1.1 0-2 .9-2 2v14c0 1.1.9 2 2 2h14c1.1 0 2-.9 2-2V5c0-1.1-.9-2-2-2zM9 17H7v-7h2v7zm4 0h-2V7h2v10zm4 0h-2v-4h2v4z\"/>\n",
              "    </g>\n",
              "</svg>\n",
              "  </button>\n",
              "\n",
              "<style>\n",
              "  .colab-df-quickchart {\n",
              "      --bg-color: #E8F0FE;\n",
              "      --fill-color: #1967D2;\n",
              "      --hover-bg-color: #E2EBFA;\n",
              "      --hover-fill-color: #174EA6;\n",
              "      --disabled-fill-color: #AAA;\n",
              "      --disabled-bg-color: #DDD;\n",
              "  }\n",
              "\n",
              "  [theme=dark] .colab-df-quickchart {\n",
              "      --bg-color: #3B4455;\n",
              "      --fill-color: #D2E3FC;\n",
              "      --hover-bg-color: #434B5C;\n",
              "      --hover-fill-color: #FFFFFF;\n",
              "      --disabled-bg-color: #3B4455;\n",
              "      --disabled-fill-color: #666;\n",
              "  }\n",
              "\n",
              "  .colab-df-quickchart {\n",
              "    background-color: var(--bg-color);\n",
              "    border: none;\n",
              "    border-radius: 50%;\n",
              "    cursor: pointer;\n",
              "    display: none;\n",
              "    fill: var(--fill-color);\n",
              "    height: 32px;\n",
              "    padding: 0;\n",
              "    width: 32px;\n",
              "  }\n",
              "\n",
              "  .colab-df-quickchart:hover {\n",
              "    background-color: var(--hover-bg-color);\n",
              "    box-shadow: 0 1px 2px rgba(60, 64, 67, 0.3), 0 1px 3px 1px rgba(60, 64, 67, 0.15);\n",
              "    fill: var(--button-hover-fill-color);\n",
              "  }\n",
              "\n",
              "  .colab-df-quickchart-complete:disabled,\n",
              "  .colab-df-quickchart-complete:disabled:hover {\n",
              "    background-color: var(--disabled-bg-color);\n",
              "    fill: var(--disabled-fill-color);\n",
              "    box-shadow: none;\n",
              "  }\n",
              "\n",
              "  .colab-df-spinner {\n",
              "    border: 2px solid var(--fill-color);\n",
              "    border-color: transparent;\n",
              "    border-bottom-color: var(--fill-color);\n",
              "    animation:\n",
              "      spin 1s steps(1) infinite;\n",
              "  }\n",
              "\n",
              "  @keyframes spin {\n",
              "    0% {\n",
              "      border-color: transparent;\n",
              "      border-bottom-color: var(--fill-color);\n",
              "      border-left-color: var(--fill-color);\n",
              "    }\n",
              "    20% {\n",
              "      border-color: transparent;\n",
              "      border-left-color: var(--fill-color);\n",
              "      border-top-color: var(--fill-color);\n",
              "    }\n",
              "    30% {\n",
              "      border-color: transparent;\n",
              "      border-left-color: var(--fill-color);\n",
              "      border-top-color: var(--fill-color);\n",
              "      border-right-color: var(--fill-color);\n",
              "    }\n",
              "    40% {\n",
              "      border-color: transparent;\n",
              "      border-right-color: var(--fill-color);\n",
              "      border-top-color: var(--fill-color);\n",
              "    }\n",
              "    60% {\n",
              "      border-color: transparent;\n",
              "      border-right-color: var(--fill-color);\n",
              "    }\n",
              "    80% {\n",
              "      border-color: transparent;\n",
              "      border-right-color: var(--fill-color);\n",
              "      border-bottom-color: var(--fill-color);\n",
              "    }\n",
              "    90% {\n",
              "      border-color: transparent;\n",
              "      border-bottom-color: var(--fill-color);\n",
              "    }\n",
              "  }\n",
              "</style>\n",
              "\n",
              "  <script>\n",
              "    async function quickchart(key) {\n",
              "      const quickchartButtonEl =\n",
              "        document.querySelector('#' + key + ' button');\n",
              "      quickchartButtonEl.disabled = true;  // To prevent multiple clicks.\n",
              "      quickchartButtonEl.classList.add('colab-df-spinner');\n",
              "      try {\n",
              "        const charts = await google.colab.kernel.invokeFunction(\n",
              "            'suggestCharts', [key], {});\n",
              "      } catch (error) {\n",
              "        console.error('Error during call to suggestCharts:', error);\n",
              "      }\n",
              "      quickchartButtonEl.classList.remove('colab-df-spinner');\n",
              "      quickchartButtonEl.classList.add('colab-df-quickchart-complete');\n",
              "    }\n",
              "    (() => {\n",
              "      let quickchartButtonEl =\n",
              "        document.querySelector('#df-2f37d705-8fc5-43ff-9250-79160ef2d192 button');\n",
              "      quickchartButtonEl.style.display =\n",
              "        google.colab.kernel.accessAllowed ? 'block' : 'none';\n",
              "    })();\n",
              "  </script>\n",
              "</div>\n",
              "\n",
              "    </div>\n",
              "  </div>\n"
            ],
            "application/vnd.google.colaboratory.intrinsic+json": {
              "type": "dataframe",
              "summary": "{\n  \"name\": \"CarPricesData\",\n  \"rows\": 11,\n  \"fields\": [\n    {\n      \"column\": \"Price\",\n      \"properties\": {\n        \"dtype\": \"number\",\n        \"std\": 9695.749005633124,\n        \"min\": 1435.0,\n        \"max\": 32500.0,\n        \"num_unique_values\": 8,\n        \"samples\": [\n          10720.915679442509,\n          9900.0,\n          1435.0\n        ],\n        \"semantic_type\": \"\",\n        \"description\": \"\"\n      }\n    },\n    {\n      \"column\": \"Age\",\n      \"properties\": {\n        \"dtype\": \"number\",\n        \"std\": 490.6495566056839,\n        \"min\": 1.0,\n        \"max\": 1433.0,\n        \"num_unique_values\": 8,\n        \"samples\": [\n          56.02023726448011,\n          61.0,\n          1433.0\n        ],\n        \"semantic_type\": \"\",\n        \"description\": \"\"\n      }\n    },\n    {\n      \"column\": \"KM\",\n      \"properties\": {\n        \"dtype\": \"number\",\n        \"std\": 77107.67572210757,\n        \"min\": 1.0,\n        \"max\": 243000.0,\n        \"num_unique_values\": 8,\n        \"samples\": [\n          68571.78257839721,\n          63451.0,\n          1435.0\n        ],\n        \"semantic_type\": \"\",\n        \"description\": \"\"\n      }\n    },\n    {\n      \"column\": \"FuelType\",\n      \"properties\": {\n        \"dtype\": \"category\",\n        \"num_unique_values\": 4,\n        \"samples\": [\n          3,\n          \"1260\",\n          \"1431\"\n        ],\n        \"semantic_type\": \"\",\n        \"description\": \"\"\n      }\n    },\n    {\n      \"column\": \"HP\",\n      \"properties\": {\n        \"dtype\": \"number\",\n        \"std\": 475.17867351948007,\n        \"min\": 14.981407767255634,\n        \"max\": 1435.0,\n        \"num_unique_values\": 7,\n        \"samples\": [\n          1435.0,\n          101.49198606271777,\n          110.0\n        ],\n        \"semantic_type\": \"\",\n        \"description\": \"\"\n      }\n    },\n    {\n      \"column\": \"MetColor\",\n      \"properties\": {\n        \"dtype\": \"number\",\n        \"std\": 507.14002117114677,\n        \"min\": 0.0,\n        \"max\": 1435.0,\n        \"num_unique_values\": 5,\n        \"samples\": [\n          0.6745644599303136,\n          1.0,\n          0.46870068985640123\n        ],\n        \"semantic_type\": \"\",\n        \"description\": \"\"\n      }\n    },\n    {\n      \"column\": \"Automatic\",\n      \"properties\": {\n        \"dtype\": \"number\",\n        \"std\": 507.2843152111327,\n        \"min\": 0.0,\n        \"max\": 1435.0,\n        \"num_unique_values\": 5,\n        \"samples\": [\n          0.05574912891986063,\n          1.0,\n          0.22951660694513173\n        ],\n        \"semantic_type\": \"\",\n        \"description\": \"\"\n      }\n    },\n    {\n      \"column\": \"CC\",\n      \"properties\": {\n        \"dtype\": \"number\",\n        \"std\": 527.6489516291872,\n        \"min\": 186.89335976796704,\n        \"max\": 2000.0,\n        \"num_unique_values\": 7,\n        \"samples\": [\n          1433.0,\n          1566.68876482903,\n          1600.0\n        ],\n        \"semantic_type\": \"\",\n        \"description\": \"\"\n      }\n    },\n    {\n      \"column\": \"Doors\",\n      \"properties\": {\n        \"dtype\": \"number\",\n        \"std\": 506.13964250153805,\n        \"min\": 0.9526666043898754,\n        \"max\": 1435.0,\n        \"num_unique_values\": 7,\n        \"samples\": [\n          1435.0,\n          4.032752613240418,\n          4.0\n        ],\n        \"semantic_type\": \"\",\n        \"description\": \"\"\n      }\n    },\n    {\n      \"column\": \"Weight\",\n      \"properties\": {\n        \"dtype\": \"number\",\n        \"std\": 457.625056177905,\n        \"min\": 52.2830383860233,\n        \"max\": 1615.0,\n        \"num_unique_values\": 8,\n        \"samples\": [\n          1072.314724354501,\n          1070.0,\n          1433.0\n        ],\n        \"semantic_type\": \"\",\n        \"description\": \"\"\n      }\n    }\n  ]\n}"
            }
          },
          "metadata": {},
          "execution_count": 144
        }
      ],
      "source": [
        "# Looking at the statistial distribution of the data\n",
        "# Observe that the min values of Age and KM column is an outlier\n",
        "CarPricesData.describe(include='all')"
      ]
    },
    {
      "cell_type": "markdown",
      "metadata": {
        "id": "m9d2ZigsdlMI"
      },
      "source": [
        "## Observe the distribution of target variable\n",
        "\n",
        "* If target variable's distribution is too skewed then the predictive modeling will not be possible.\n",
        "* Bell curve is desirable but slightly positive skew or negative skew is also fine\n",
        "* When performing Regression, make sure there is no Zeros in the target variable, as it will cause divide by Zero exeption later on for accuracy calculation"
      ]
    },
    {
      "cell_type": "code",
      "execution_count": 145,
      "metadata": {
        "colab": {
          "base_uri": "https://localhost:8080/",
          "height": 314
        },
        "id": "oES4kW9ddlMJ",
        "outputId": "008667d5-7d4e-414d-9ca1-b6b2e3b30b2c"
      },
      "outputs": [
        {
          "output_type": "display_data",
          "data": {
            "text/plain": [
              "<Figure size 1000x300 with 1 Axes>"
            ],
            "image/png": "[encoded data removed]"
          },
          "metadata": {}
        }
      ],
      "source": [
        "CarPricesData.hist(['Price'], figsize=[10,3])\n",
        "plt.show()\n",
        "# Observe the outlier Prices"
      ]
    },
    {
      "cell_type": "code",
      "execution_count": 146,
      "metadata": {
        "colab": {
          "base_uri": "https://localhost:8080/"
        },
        "id": "cwufgKAVdlMJ",
        "outputId": "4218ad61-9bfb-4a25-9a7e-c894b74d3b9f"
      },
      "outputs": [
        {
          "output_type": "execute_result",
          "data": {
            "text/plain": [
              "Price         236\n",
              "Age            77\n",
              "KM           1263\n",
              "FuelType        3\n",
              "HP             12\n",
              "MetColor        2\n",
              "Automatic       2\n",
              "CC             12\n",
              "Doors           4\n",
              "Weight         59\n",
              "dtype: int64"
            ]
          },
          "metadata": {},
          "execution_count": 146
        }
      ],
      "source": [
        "# Finging unique values for each column\n",
        "# TO understand which column is categorical and which one is Continuous\n",
        "CarPricesData.nunique()"
      ]
    },
    {
      "cell_type": "markdown",
      "metadata": {
        "id": "HaDg1wWadlMJ"
      },
      "source": [
        "## Visualize distribution of all the categorical Predictor variables in the data using bar plots\n",
        "We can spot a categorical variable in the data by looking at the unique values in them. Typically a categorical variable contains less than 20 Unique values AND there is repetition of values, which means the data can be grouped by those unique values."
      ]
    },
    {
      "cell_type": "code",
      "execution_count": 147,
      "metadata": {
        "colab": {
          "base_uri": "https://localhost:8080/"
        },
        "id": "9OKb3DmmdlMJ",
        "outputId": "a9c8c777-5818-4d18-97b7-538746877571"
      },
      "outputs": [
        {
          "output_type": "execute_result",
          "data": {
            "text/plain": [
              "FuelType\n",
              "CNG         17\n",
              "Diesel     154\n",
              "Petrol    1260\n",
              "dtype: int64"
            ]
          },
          "metadata": {},
          "execution_count": 147
        }
      ],
      "source": [
        "CarPricesData.groupby('FuelType').size()"
      ]
    },
    {
      "cell_type": "code",
      "execution_count": 148,
      "metadata": {
        "colab": {
          "base_uri": "https://localhost:8080/",
          "height": 1000
        },
        "id": "SgcSncjrdlMJ",
        "outputId": "15d9ede9-9fc5-4093-d8f0-63280d516b73"
      },
      "outputs": [
        {
          "output_type": "display_data",
          "data": {
            "text/plain": [
              "<Figure size 1500x600 with 1 Axes>"
            ],
            "image/png": "[encoded data removed]"
          },
          "metadata": {}
        },
        {
          "output_type": "display_data",
          "data": {
            "text/plain": [
              "<Figure size 1500x600 with 1 Axes>"
            ],
            "image/png": "[encoded data removed]"
          },
          "metadata": {}
        },
        {
          "output_type": "display_data",
          "data": {
            "text/plain": [
              "<Figure size 1500x600 with 1 Axes>"
            ],
            "image/png": "[encoded data removed]"
          },
          "metadata": {}
        },
        {
          "output_type": "display_data",
          "data": {
            "text/plain": [
              "<Figure size 1500x600 with 1 Axes>"
            ],
            "image/png": "[encoded data removed]"
          },
          "metadata": {}
        }
      ],
      "source": [
        "colsToPlot=['FuelType', 'HP','Automatic','Doors']\n",
        "for col in colsToPlot:\n",
        "    plt.figure(figsize=(15,6))\n",
        "    CarPricesData.groupby(col).size().plot(kind='bar')\n",
        "    plt.show()"
      ]
    },
    {
      "cell_type": "markdown",
      "metadata": {
        "id": "ifO7XLSsdlMJ"
      },
      "source": [
        "## Visualize distribution of all the numeric Predictor variables in the data using histograms"
      ]
    },
    {
      "cell_type": "code",
      "execution_count": 149,
      "metadata": {
        "colab": {
          "base_uri": "https://localhost:8080/",
          "height": 620
        },
        "id": "f8e5w98HdlMJ",
        "outputId": "0f29ddff-2680-4542-b43a-d9877269ea6f"
      },
      "outputs": [
        {
          "output_type": "display_data",
          "data": {
            "text/plain": [
              "<Figure size 1800x800 with 4 Axes>"
            ],
            "image/png": "[encoded data removed]"
          },
          "metadata": {}
        }
      ],
      "source": [
        "# Plotting histograms of multiple columns together\n",
        "CarPricesData.hist(['Price','Age', 'KM', 'Weight'], figsize=(18,8))\n",
        "plt.show()"
      ]
    },
    {
      "cell_type": "markdown",
      "metadata": {
        "id": "X1dRPeKddlMK"
      },
      "source": [
        "## Visual Exploration of relationship between variables\n",
        "* Continuous Vs Continuous ---- Scatter Plot\n",
        "* Continuous Vs Categorical---- Bar Plot, Box Plot\n",
        "* Categorical Vs Categorical---- Bar Plot"
      ]
    },
    {
      "cell_type": "markdown",
      "metadata": {
        "id": "WDcy8ht9dlMK"
      },
      "source": [
        "## Relationship exploration: Continuous Vs Continuous\n",
        "When the target variable is continuous and the predictor variable is also continuous we analyze the relation using scatter plot and measure the strength of relation using correlation"
      ]
    },
    {
      "cell_type": "markdown",
      "metadata": {
        "id": "FjuIvWSVdlMK"
      },
      "source": [
        "## Generating graphs for all numeric columns in data\n",
        "* This gives a birds eye view about the numeric variables which looks correlated with Target Variable \"Price\"\n",
        "* Do not run scatter_matrix() command for more than 10 variables at a time for performance issues"
      ]
    },
    {
      "cell_type": "code",
      "execution_count": null,
      "metadata": {
        "id": "ObxzrLA3dlMK"
      },
      "outputs": [],
      "source": [
        "# Creating histograms and scatter plots for all the numeric columns in data\n",
        "# Storing the returned result array into a variable\n",
        "# Observe the histograms for all variables and look for extreme skewness\n",
        "FullDataPlot=pd.plotting.scatter_matrix(CarPricesData, figsize=(20,20))"
      ]
    },
    {
      "cell_type": "code",
      "execution_count": null,
      "metadata": {
        "id": "EvpMLL2CdlMK"
      },
      "outputs": [],
      "source": [
        "# Taling closer look at the Scatter plot between Price Vs Age\n",
        "CarPricesData.plot.scatter(x='Age', y='Price', figsize=(15,6), marker='o', color='blue')\n",
        "plt.show()"
      ]
    },
    {
      "cell_type": "code",
      "execution_count": null,
      "metadata": {
        "id": "C9oVkNxNdlML"
      },
      "outputs": [],
      "source": [
        "# Generating multiple subplots\n",
        "fig, subPlot=plt.subplots(nrows=1, ncols=3, figsize=(25,6))\n",
        "\n",
        "# Creating the super title of the charts\n",
        "fig.suptitle('Price Vs AGE, KM and Weight')\n",
        "\n",
        "# Generating multiple scatter charts\n",
        "CarPricesData.plot.scatter(x='Age', y='Price', marker='o', color='blue', ax=subPlot[0])\n",
        "CarPricesData.plot.scatter(x='KM', y='Price', marker='o', color='blue', ax=subPlot[1])\n",
        "CarPricesData.plot.scatter(x='Weight', y='Price', marker='o', color='blue', ax=subPlot[2])\n",
        "plt.show()"
      ]
    },
    {
      "cell_type": "markdown",
      "metadata": {
        "id": "MFIGmHrQdlML"
      },
      "source": [
        "## Outlier Observation:\n",
        "* There are few outliers in the data clearly visible for Price > 30,000\n",
        "* This will bias the regression model, hence, if the number of records are less, it is advisable to remove these records or replace it with a logical value which is nearby to similar records according to the data"
      ]
    },
    {
      "cell_type": "code",
      "execution_count": null,
      "metadata": {
        "id": "WfEurO2CdlML"
      },
      "outputs": [],
      "source": [
        "# Finding those rows where price column has outliers\n",
        "CarPricesData[CarPricesData['Price']>30000]"
      ]
    },
    {
      "cell_type": "code",
      "execution_count": null,
      "metadata": {
        "id": "pTlaMzSRdlML"
      },
      "outputs": [],
      "source": [
        "# Code to delete the outlier records from the data\n",
        "# print('Shape before outlier removal', CarPricesData.shape)\n",
        "# CarPricesData=CarPricesData[CarPricesData['Price']<30000]\n",
        "# print('Shape after outlier removal', CarPricesData.shape)\n",
        "# Code to replace the outlier values with a logical value\n",
        "CarPricesData['Price'][CarPricesData['Price']>30000]=25000\n",
        "CarPricesData['Price'].describe()"
      ]
    },
    {
      "cell_type": "markdown",
      "metadata": {
        "id": "7ykybZordlML"
      },
      "source": [
        "## Statistical Feature Selection (Continuous Vs Continuous) using Correlation Marix\n",
        "Finding the top numeric continuous variables which correlate with the target variable\n",
        "\n",
        "## Correlation Matrix\n",
        "The correlation matrix is a square matrix that contains the Pearson product-moment\n",
        "correlation coefficients (often abbreviated as Pearson's r), which measure the linear\n",
        "dependence between pairs of features. The correlation coefficients are bounded\n",
        "to the range -1 and 1. Two features have a perfect positive correlation if $r=1$, no\n",
        "correlation if $r=0$ and a perfect negative correlation if $r=-1$ respectively. Pearson's correlation coefficient can simply be calculated as\n",
        "the covariance between two features $x$ and $y$ (numerator) divided by the product\n",
        "of their standard deviations (denominator):  \n",
        "\n",
        "$$r_{xy}=\\frac{\\sum{(X_{i}-\\bar{X})(y_{i}-\\bar{y})}}{\\sqrt{\\sum(X_{i}-\\bar{X})^2 \\sum(y_{i}-\\bar{y})^2}}$$\n",
        "\n",
        "\n",
        "* This value can be calculated only between two numeric columns\n",
        "* Correlation between [-1,0) means inversely proportional, the scatter plot will show a downward trend\n",
        "* Correlation between (0,1] means directly proportional, the scatter plot will show a upward trend\n",
        "* Correlation near {0} means No relationship, the scatter plot will show no clear trend.\n",
        "* If Correlation value between two variables is > 0.5 in magnitude, it indicates good relationship the sign does not matter\n",
        "* We observe the correlations between Target variable and all other predictor variables(s) to check which columns/features/predictors are actually related to the target variable in question"
      ]
    },
    {
      "cell_type": "code",
      "execution_count": null,
      "metadata": {
        "id": "IPTfEwCyf7Ja"
      },
      "outputs": [],
      "source": []
    },
    {
      "cell_type": "code",
      "execution_count": null,
      "metadata": {
        "id": "9nEc9lVPdlMM"
      },
      "outputs": [],
      "source": [
        "# # Creating the correlation matrix\n",
        "# CorrelationData=CarPricesData.corr()\n",
        "# CorrelationData"
      ]
    },
    {
      "cell_type": "code",
      "execution_count": null,
      "metadata": {
        "id": "bhZQSW0bdlMM"
      },
      "outputs": [],
      "source": [
        "# Filtering only those columns where absolute correlation > 0.5 with Price\n",
        "# CorrelationData['Price'][abs(CorrelationData['Price']) > 0.5 ]"
      ]
    },
    {
      "cell_type": "markdown",
      "metadata": {
        "id": "vYl0C3-kdlMM"
      },
      "source": [
        "## Relationship exploration: Continuous Vs Categorical\n",
        "When the target variable is continuous and the predictor variable is categorical we analyze the relation using bar plots and measure the strength of relation using Anova test\n",
        "\n",
        "## Visualizing the relation between Price and Fuel Type using bar chart\n",
        "We Group by and keep categorical variable in the X-Axis and the continuous variable in the Y-Axis"
      ]
    },
    {
      "cell_type": "code",
      "execution_count": null,
      "metadata": {
        "id": "Q0uwISJfdlMM"
      },
      "outputs": [],
      "source": [
        "# Grouping by Fuel type to find the aggregated values\n",
        "GroupedData=CarPricesData.groupby(['FuelType'])\n",
        "\n",
        "# Printing the aggregated values\n",
        "#GroupedData.size()\n",
        "#GroupedData.sum()\n",
        "#GroupedData.count()\n",
        "GroupedData.mean()"
      ]
    },
    {
      "cell_type": "code",
      "execution_count": null,
      "metadata": {
        "id": "aJ-0gp0KdlMM"
      },
      "outputs": [],
      "source": [
        "# Creating the graph with Price\n",
        "plt.figure(figsize=(10,6))\n",
        "GroupedData.mean()['Price'].plot(kind='bar', title='Average Price for Each Fuel Type', color=['green','lightblue','blue'])\n",
        "plt.show()"
      ]
    },
    {
      "cell_type": "code",
      "execution_count": null,
      "metadata": {
        "id": "cWDdsArGdlMM"
      },
      "outputs": [],
      "source": [
        "# Looking at the variances in Price by each fuel type in box plot\n",
        "# IF the distribution of each type is similar, it gives a hint that there is no correlation\n",
        "# Between the categorical and the numeric variable\n",
        "CarPricesData.boxplot(column='Price', by='FuelType', figsize=(15,6))\n",
        "plt.show()"
      ]
    },
    {
      "cell_type": "markdown",
      "metadata": {
        "id": "f2tmOMg5dlMM"
      },
      "source": [
        "## Statistical Feature Selection (Continuous Vs Categorical) using ANOVA test\n",
        "Analysis of variance(ANOVA) is performed to check if there is any relationship between the given continuous and categorical variable\n",
        "* Assumption(H0): There is NO relation between the given variables (i.e. The average(mean) values of the numeric Target variable is same for all the groups in the categorical predictor variable)\n",
        "* ANOVA Test result: Probability of H0 being true"
      ]
    },
    {
      "cell_type": "code",
      "execution_count": null,
      "metadata": {
        "id": "Mq4GjYaydlMN"
      },
      "outputs": [],
      "source": [
        "# f_oneway() function takes the group data as input and returns F-statistic and P-value\n",
        "from scipy.stats import f_oneway\n",
        "\n",
        "\n",
        "# Running the one-way anova test between Price and FuelTypes\n",
        "# Assumption(H0) is that FuelType and Prices are NOT correlated\n",
        "\n",
        "# Finds out the Prices data for each FuelType as a list\n",
        "CategoryGroupLists=CarPricesData.groupby('FuelType')['Price'].apply(list)\n",
        "# Performing the ANOVA test\n",
        "AnovaResults = f_oneway(*CategoryGroupLists)\n",
        "\n",
        "\n",
        "# Extreme example when all values are same and the variables are not correlated\n",
        "#AnovaResults = f_oneway( [10,20], [10,20], [10,20] )\n",
        "\n",
        "# Extreme example when all the values are different and both variables has correlation\n",
        "#AnovaResults = f_oneway( [400,500], [7,10], [0.006,0.00001] )\n",
        "\n",
        "print('P-Value for Anova is: ', AnovaResults[1])\n",
        "\n",
        "# We accept the Assumption(H0) only when P-Value > 0.05\n",
        "# Here the P-Value is > 0.05 by a slight margin!! which means we will Accept the Assumption(H0)\n",
        "# This means Price and Fuel Type are NOT correlated"
      ]
    },
    {
      "cell_type": "code",
      "execution_count": null,
      "metadata": {
        "id": "GS47N2OsdlMN"
      },
      "outputs": [],
      "source": [
        "# Home work\n",
        "# Write a function to take 3 inputs and provide the anova results for all the categorical predictors\n",
        "# FunctionAnova(inputData=CarPricesData, targetVar='Price', categoricalPredictors=['FuelType','MetColor'])"
      ]
    },
    {
      "cell_type": "markdown",
      "metadata": {
        "id": "Bqk_DVB1dlMN"
      },
      "source": [
        "## Data Pre-processing for Machine Learning\n",
        "* Treating Missing Values (Interpolate/Replace with median/Mode values)\n",
        "* Treating Outliers (Delete or replace with nearby logical value)\n",
        "* Converting each Ordinal Categorical columns to numeric\n",
        "* Converting all nominal Categorical columns to numeric\n",
        "* Standardization/Normalization(Optional)"
      ]
    },
    {
      "cell_type": "markdown",
      "metadata": {
        "id": "hWHAPaModlMN"
      },
      "source": [
        "## Data Pre-Processing: Treating Missing Values"
      ]
    },
    {
      "cell_type": "code",
      "execution_count": null,
      "metadata": {
        "id": "Aj_zsRfldlMN"
      },
      "outputs": [],
      "source": [
        "# Finding out how many missing values are present in each column\n",
        "CarPricesData.isnull().sum()"
      ]
    },
    {
      "cell_type": "code",
      "execution_count": null,
      "metadata": {
        "id": "pPn3F6B-dlMN"
      },
      "outputs": [],
      "source": [
        "# Code to delete all the missing values at once\n",
        "print('Before Deleting missing values:', CarPricesData.shape)\n",
        "CarPricesDataCleaned=CarPricesData.dropna()\n",
        "print('After Deleting missing values:', CarPricesDataCleaned.shape)"
      ]
    },
    {
      "cell_type": "code",
      "execution_count": null,
      "metadata": {
        "id": "nYgg1hFDdlMO"
      },
      "outputs": [],
      "source": [
        "# Treating missing values in each column\n",
        "\n",
        "# Replacing by interpolation for a numeric variable\n",
        "CarPricesData['Age']=CarPricesData['Age'].interpolate(method='linear')\n",
        "\n",
        "# Replacing with median value a numeric variable\n",
        "MedianWeight=CarPricesData['Weight'].median()\n",
        "CarPricesData['Weight']=CarPricesData['Weight'].fillna(value=MedianWeight)\n",
        "\n",
        "###################################################################################\n",
        "\n",
        "# Replacing with interpolation for a categorical variable\n",
        "CarPricesData['FuelType']=CarPricesData['FuelType'].interpolate(method='ffill')\n",
        "\n",
        "# Replacing with mode value for a categorical variable\n",
        "ModeCC=CarPricesData['CC'].mode()[0]\n",
        "CarPricesData['CC']=CarPricesData['CC'].fillna(value=ModeCC)"
      ]
    },
    {
      "cell_type": "code",
      "execution_count": null,
      "metadata": {
        "id": "qxQYCAPAdlMO"
      },
      "outputs": [],
      "source": [
        "# Every column must have Zero missing values before you proceed futher\n",
        "CarPricesData.isnull().sum()"
      ]
    },
    {
      "cell_type": "markdown",
      "metadata": {
        "id": "aEXvzH5BdlMO"
      },
      "source": [
        "## Data Pre-Processing: Treating Outliers\n",
        "* Outliers are treated by either deleting them or replacing the outlier values with a logical value as per business and similar data"
      ]
    },
    {
      "cell_type": "code",
      "execution_count": null,
      "metadata": {
        "id": "hS7ZvbNCdlMO"
      },
      "outputs": [],
      "source": [
        "# Looking at the distribution of weight column\n",
        "plt.figure(figsize=(10,6))\n",
        "CarPricesData['Weight'].hist()\n",
        "plt.show()"
      ]
    },
    {
      "cell_type": "code",
      "execution_count": null,
      "metadata": {
        "id": "FtomxhZcdlMO"
      },
      "outputs": [],
      "source": [
        "# Looking at the relation with the target column before removing outlier\n",
        "CarPricesData.plot.scatter(x='Weight', y='Price', marker='o', color='blue',figsize=(10,6))\n",
        "plt.show()"
      ]
    },
    {
      "cell_type": "code",
      "execution_count": null,
      "metadata": {
        "id": "ivIKhUlLdlMO"
      },
      "outputs": [],
      "source": [
        "# Removing the outlier values from data\n",
        "CarPricesData=CarPricesData[CarPricesData['Weight']<1400]"
      ]
    },
    {
      "cell_type": "code",
      "execution_count": null,
      "metadata": {
        "id": "Wx-nwmISdlMO"
      },
      "outputs": [],
      "source": [
        "# Plotting again to see the effect of removing outliers\n",
        "CarPricesData.plot.scatter(x='Weight', y='Price', marker='o', color='blue',figsize=(10,6))\n",
        "plt.show()"
      ]
    },
    {
      "cell_type": "code",
      "execution_count": null,
      "metadata": {
        "id": "9LZhBsQfdlMP"
      },
      "outputs": [],
      "source": [
        "# Looking at the correlation with target variable before removing outliers\n",
        "CarPricesData[['Price','Weight']].corr()"
      ]
    },
    {
      "cell_type": "code",
      "execution_count": null,
      "metadata": {
        "id": "8t92hKsLdlMP"
      },
      "outputs": [],
      "source": [
        "# Removing the outlier values from data\n",
        "FilterCondition1=CarPricesData['Weight']>1250\n",
        "FilterCondition2=CarPricesData['Price']<10000\n",
        "\n",
        "# Printing the outlier rows\n",
        "print(CarPricesData[FilterCondition1 & FilterCondition2])\n",
        "\n",
        "RowsToDelete=CarPricesData[FilterCondition1 & FilterCondition2].index\n",
        "CarPricesData=CarPricesData.drop(RowsToDelete)\n",
        "CarPricesData"
      ]
    },
    {
      "cell_type": "code",
      "execution_count": null,
      "metadata": {
        "id": "EV5DPG0YlL-c"
      },
      "outputs": [],
      "source": []
    },
    {
      "cell_type": "code",
      "execution_count": null,
      "metadata": {
        "id": "249VLfkqdlMP"
      },
      "outputs": [],
      "source": [
        "#  Plotting again to see the effect of removing outliers\n",
        "CarPricesData.plot.scatter(x='Weight', y='Price', marker='o', color='blue',figsize=(10,6))\n",
        "plt.show()"
      ]
    },
    {
      "cell_type": "markdown",
      "metadata": {
        "id": "3mke5ToKdlMR"
      },
      "source": [
        "## Data Pre-Processing: Converting Categorical data to numeric\n",
        "1. First Treat all Ordinal variables by manually mapping the numeric values\n",
        "2. Treat all nominal variables using dummy variables"
      ]
    },
    {
      "cell_type": "code",
      "execution_count": null,
      "metadata": {
        "id": "KETHc7hwdlMS"
      },
      "outputs": [],
      "source": [
        "# CarPricesData has only one string categorical variable FuelType\n",
        "# Hence using get_dummies function\n",
        "CarPricesDataNumeric=pd.get_dummies(CarPricesData)\n",
        "CarPricesDataNumeric.head()"
      ]
    },
    {
      "cell_type": "markdown",
      "metadata": {
        "id": "GDjPwfSkdlMS"
      },
      "source": [
        "## Machine Learning: Splitting the data into Training and Testing sample\n",
        "We dont use the full data for creating the model. Some data is randomly selected and kept aside for checking how good the model is. This is known as Testing Data and the remaining data is called Training data on which the model is built. Typically 70% of data is used as Training data and the rest 30% is used as Tesing data"
      ]
    },
    {
      "cell_type": "code",
      "execution_count": null,
      "metadata": {
        "id": "UBwdMALXdlMS"
      },
      "outputs": [],
      "source": [
        "# %pip install scikit-learn\n"
      ]
    },
    {
      "cell_type": "code",
      "execution_count": null,
      "metadata": {
        "id": "Jg3Eg-kEdlMS"
      },
      "outputs": [],
      "source": [
        "# Separate Target Variable and Predictor Variables\n",
        "TargetVariable ='Price'\n",
        "Predictors = ['Age'] # Starting with only 1 feature to predict the price, Univariate Regression Model\n",
        "X = CarPricesDataNumeric[Predictors]#.values\n",
        "y = CarPricesDataNumeric[TargetVariable]#.values\n",
        "\n",
        "# Split the data into training and testing set\n",
        "from sklearn.model_selection import train_test_split\n",
        "\n",
        "X_train, X_test, y_train, y_test = train_test_split(X, y, test_size=0.3, random_state = 42)\n",
        "\n",
        "# If my data splpitting is truly random\n",
        "# Everytime I run train_test split - I will get a different combination of training and testing data points\n",
        "# Compare models with each other ? - Some model might be performing better, because of a lucky split"
      ]
    },
    {
      "cell_type": "code",
      "execution_count": null,
      "metadata": {
        "id": "GQDEjw4udlMS"
      },
      "outputs": [],
      "source": [
        "# Quick sanity check with the shapes of Training and testing datasets\n",
        "print(X_train.shape)\n",
        "print(y_train.shape)\n",
        "print(X_test.shape)\n",
        "print(y_test.shape)"
      ]
    },
    {
      "cell_type": "markdown",
      "metadata": {
        "id": "4SoNb31tulKN"
      },
      "source": [
        "\n",
        "# Univariate (Simple) Linear regression\n",
        "Linear regression with a single variable or feature is called **univariate linear regression**. The output of linear regression is an estimate of the outcome variable (aka target)."
      ]
    },
    {
      "cell_type": "code",
      "execution_count": null,
      "metadata": {
        "id": "Y8fmufv6dlMS"
      },
      "outputs": [],
      "source": [
        "# X_train, y_train - Train / Fit the model on this data\n",
        "# Calculate an error for this\n",
        "\n",
        "# Predict on the X_test data\n",
        "# Compare the performance, find the error on the test data by using y_test and predicted value"
      ]
    },
    {
      "cell_type": "code",
      "execution_count": null,
      "metadata": {
        "id": "DnQBdgTEulKQ"
      },
      "outputs": [],
      "source": [
        "# import model related libraries\n",
        "from sklearn.linear_model import LinearRegression\n",
        "\n",
        "# from sklearn.linear_model import LinearRegression\n",
        "# Find the import statement of a DecisionTreeRegressor\n",
        "from sklearn.tree import DecisionTreeRegressor\n",
        "\n",
        "# import module to calculate model perfomance metrics # Average Error, Root Mean Square Error, MAPE, MAE, Accuracy, precision, recall\n",
        "from sklearn import metrics # help you to evaluate the performance of your models"
      ]
    },
    {
      "cell_type": "code",
      "execution_count": null,
      "metadata": {
        "id": "3fShcgjBulKh"
      },
      "outputs": [],
      "source": [
        "# Step 4: Fit linear regression model to trainingset\n",
        "# Linear Regression Model\n",
        "linreg = LinearRegression() # inititlaising an object  (linreg) of the Linear Regression Class\n",
        "\n",
        "# X - age\n",
        "# Y - price\n",
        "# price = a*age + b\n",
        "\n",
        "# fit the model to the training data (learn the coefficients)\n",
        "linreg.fit(X_train, y_train)\n",
        "\n",
        "# solving for a and b - So I get the final eqaution with some values of a and b"
      ]
    },
    {
      "cell_type": "code",
      "execution_count": null,
      "metadata": {
        "id": "cHhSJKTidlMT"
      },
      "outputs": [],
      "source": [
        "linreg.coef_"
      ]
    },
    {
      "cell_type": "code",
      "execution_count": null,
      "metadata": {
        "id": "JO5KwDVTdlMT"
      },
      "outputs": [],
      "source": [
        "linreg.intercept_"
      ]
    },
    {
      "cell_type": "code",
      "execution_count": null,
      "metadata": {
        "id": "OtLKJZzcdlMT"
      },
      "outputs": [],
      "source": [
        "# y = coeff1*input1 + intercept\n",
        "# price = -166.995*age + 20065.11"
      ]
    },
    {
      "cell_type": "code",
      "execution_count": null,
      "metadata": {
        "id": "lEg0L1RZdlMT"
      },
      "outputs": [],
      "source": [
        "# Metrics in Sklearn - Measurement of Performance of the model\n",
        "# We want to minimise the error = difference between actual and predicted"
      ]
    },
    {
      "cell_type": "code",
      "execution_count": null,
      "metadata": {
        "id": "_XCjUUKkdlMT"
      },
      "outputs": [],
      "source": [
        "# Actual > Predicted , Actual < Predicted -> Sign of error concern me ?\n",
        "\n",
        "# e1, e2, e3, e4, e5, ..... e10\n",
        "\n",
        "# Aggregate Overall level - aggregation function = cause of variability of metrics\n",
        "\n",
        "# Root Mean Squared Error = square root(((e1)**2+(e2)**2+....e10**2)/ 10)\n",
        "\n",
        "# MAE - metric for analysing the performance of A Regression Model - we did not change the unit\n",
        "# MSE - metric for analysing the performance of A Regression Model - unit **2 - which does not make sense\n",
        "# RMSE - metric for analysing the performance of A Regression Model\n",
        "# MAPE - metric for analysing the performance of A Regression Model\n",
        "\n",
        "\n",
        "# error = (actual - predicted) / actual = % error\n",
        "# Average of % error in each sample\n",
        "\n",
        "\n",
        "# 2005 -> Car Prices - 4Lkahs - 5 Lakhs -> 1500, 1Lakh - > 98500, 101500\n",
        "# 2022 -> Car Prices - 8-10 Lakhs -> 1500 , 7 lakhs ->. 698500, 701500"
      ]
    },
    {
      "cell_type": "markdown",
      "metadata": {
        "id": "aHAHbU2Sjjgc"
      },
      "source": [
        "# Compare similarity in movement of the Trend in data points\n",
        "# R2 Score -> (-infinity to +1 )\n",
        "# +1 - means perfect correlation in movement\n",
        "# R2 Score less than 0.7/0.6 - not acceptable in terms of trend movement\n",
        "# Mathematical Error metrics also - to quantify\n",
        "# A good R2 Score - tells us that the change in output is accounted for by a change in the input\n",
        "# You predict 10 for all cases, average error -> 20%\n",
        "# Your output is in the range 8-12, model is predicting -50"
      ]
    },
    {
      "cell_type": "markdown",
      "metadata": {
        "id": "DDD9E6YsjnK8"
      },
      "source": [
        "# test data - not seen by the model\n",
        "# training data - model has seen"
      ]
    },
    {
      "cell_type": "code",
      "execution_count": null,
      "metadata": {
        "id": "HwO7ZfjfulKn"
      },
      "outputs": [],
      "source": [
        "# X_train, y_train\n",
        "# X_test, y_test\n",
        "y_pred = linreg.predict(X_test)\n",
        "# compare y_pred, with y_test - evaluate performance"
      ]
    },
    {
      "cell_type": "code",
      "execution_count": null,
      "metadata": {
        "id": "-2N8px0WdlMU"
      },
      "outputs": [],
      "source": [
        "from sklearn import metrics\n",
        "from sklearn.metrics import r2_score, mean_squared_error, mean_absolute_percentage_error"
      ]
    },
    {
      "cell_type": "code",
      "execution_count": null,
      "metadata": {
        "id": "zwWa9-2pdlMU"
      },
      "outputs": [],
      "source": [
        "# from sklearn import metrics\n",
        "\n",
        "# metrics.r2_score()\n",
        "# metrics.mean_squared_error()\n",
        "# metrics.mean_absolute_percentage_error()\n",
        "\n",
        "# from sklearn.metrics import r2_score, mean_squared_error, mean_absolute_percentage_error\n",
        "# r2_score()\n",
        "# mean_squared_error()\n",
        "# mean_absolute_percentage_error()"
      ]
    },
    {
      "cell_type": "code",
      "execution_count": null,
      "metadata": {
        "id": "8k3TLZLuulKo"
      },
      "outputs": [],
      "source": [
        " # Measuring Goodness of fit in Training data\n",
        "print('R2 Value:',metrics.r2_score(y_train, linreg.predict(X_train)))\n",
        "# r2_score helps us find if the model prediction trend and actual trend is same\n",
        "\n",
        "# MSE in metrics - Root mean squared error\n",
        "print('MSE on Test Data:',np.sqrt(metrics.mean_squared_error(y_pred, y_test)))\n",
        "# MAPE\n",
        "print('MAPE:', mean_absolute_percentage_error(y_test,y_pred))"
      ]
    },
    {
      "cell_type": "code",
      "execution_count": null,
      "metadata": {
        "id": "lhIVTgn4dlMU"
      },
      "outputs": [],
      "source": [
        "# create a report - and answer the question - are we in the underfitting stage, good fit stage, overfitting stage ?\n",
        "# Did the performance improve after adding the second variable ?\n",
        "\n",
        "# 1 Variable - Age\n",
        "# 2 Variables - Age and KM\n",
        "\n",
        "# Find the 3 errors on the first model for both train and test\n",
        "# Find the 3 errors on the second model for both train and test"
      ]
    },
    {
      "cell_type": "code",
      "execution_count": null,
      "metadata": {
        "id": "E4rdrDw3dlMV"
      },
      "outputs": [],
      "source": []
    },
    {
      "cell_type": "code",
      "execution_count": null,
      "metadata": {
        "id": "90Ep_SHzdlMV"
      },
      "outputs": [],
      "source": [
        "TargetVariable ='Price'\n",
        "Predictors = ['Age', 'KM', 'HP', 'MetColor', 'Automatic', 'CC', 'Doors',\n",
        "       'Weight', 'FuelType_CNG', 'FuelType_Diesel', 'FuelType_Petrol']\n",
        "X = CarPricesDataNumeric[Predictors]\n",
        "y = CarPricesDataNumeric[TargetVariable]\n",
        "\n",
        "X_train, X_test, y_train, y_test = train_test_split(X, y, test_size=0.3, random_state = 42)"
      ]
    },
    {
      "cell_type": "code",
      "source": [
        "X_train.shape"
      ],
      "metadata": {
        "id": "-hna-kqJn0fg"
      },
      "execution_count": null,
      "outputs": []
    },
    {
      "cell_type": "code",
      "execution_count": null,
      "metadata": {
        "id": "diuONdRgdlMV"
      },
      "outputs": [],
      "source": [
        "linreg = LinearRegression() # inititlaising an object  (linreg) of the Linear Regression Class\n",
        "linreg.fit(X_train, y_train)"
      ]
    },
    {
      "cell_type": "code",
      "execution_count": null,
      "metadata": {
        "id": "SiUoxQ_xdlMV"
      },
      "outputs": [],
      "source": [
        "y_train_pred = linreg.predict(X_train)\n",
        "y_test_pred = linreg.predict(X_test)"
      ]
    },
    {
      "cell_type": "code",
      "execution_count": null,
      "metadata": {
        "id": "IwJZPiY_dlMV"
      },
      "outputs": [],
      "source": [
        "print('R2 Train Value:',metrics.r2_score(y_train, y_train_pred))\n",
        "print('R2 Test Value:',metrics.r2_score(y_test, y_test_pred))\n",
        "\n",
        "print('RMSE on Train Data:',np.sqrt(metrics.mean_squared_error(y_train, y_train_pred)))\n",
        "print('RMSE on Test Data:',np.sqrt(metrics.mean_squared_error(y_test, y_test_pred)))\n",
        "\n",
        "print('MAPE on train:', mean_absolute_percentage_error(y_train,y_train_pred))\n",
        "print('MAPE on test:', mean_absolute_percentage_error(y_test,y_test_pred))\n"
      ]
    },
    {
      "cell_type": "code",
      "execution_count": null,
      "metadata": {
        "id": "ZzBEhwofdlMV"
      },
      "outputs": [],
      "source": [
        "# R2 Train Value: 0.7753312979201091\n",
        "# R2 Test Value: 0.7801475456583079\n",
        "# Accuracy on Train Data: 87.93451271052825\n",
        "# Accuracy on Test Data: 88.5881004684015\n",
        "# RMSE on Train Data: 1674.8986305463052\n",
        "# RMSE on Test Data: 1576.924704956041"
      ]
    },
    {
      "cell_type": "markdown",
      "metadata": {
        "id": "_P7b4Y0UulKt"
      },
      "source": [
        "After prediction a data scientist should always show how was the performance of the model using different evaluation metrics. One of the most important evaluation metric for linear regression is the coefficient of determination also known as R-squared value ($ R^2 $). The $ R^2 $ is basically a statistical measure of how close the data are to the fitted regression line, by \"data\" it means our independent variable data, the **engine-size** data. Usually, the larger the $R^2$ value is, the better the model fits the data."
      ]
    },
    {
      "cell_type": "markdown",
      "metadata": {
        "id": "ZWENAeUiulKu"
      },
      "source": [
        "$ R^2 $ is defined as :\n",
        "\n",
        "\\begin{align}\n",
        "r^2 = \\frac{SS_{regression}}{SS_{total}}\n",
        "\\end{align}\n",
        "\n",
        "\\begin{align}\n",
        "r^2 = 1 - \\frac{SS_{error}}{SS_{total}}\n",
        "\\end{align}\n",
        "\n",
        "Where:\n",
        " - $ SS_{regression} $ - \"regression sum of squares\"; quantifies how far the predicted value is from the mean\n",
        " - $ SS_{error} $ - \"error sum of squares\"; quantifies the variance of the target data points around the regression line\n",
        " - $ SS_{total} $ - \"total sum of squares\"; quantifies the variance of the target data points around the mean\n",
        "\n",
        "\\begin{align}\n",
        "SS_{regression} = \\sum_{i=1}^m(\\hat y_i - \\bar y)^2\n",
        "\\end{align}\n",
        "\n",
        "\\begin{align}\n",
        "SS_{error} = \\sum_{i=1}^m(y_i - \\hat y)^2\n",
        "\\end{align}\n",
        "\n",
        "\\begin{align}\n",
        "SS_{total} = \\sum_{i=1}^m(y_i - \\bar y)^2\n",
        "\\end{align}"
      ]
    },
    {
      "cell_type": "markdown",
      "metadata": {
        "id": "sm_knz6uulK4"
      },
      "source": [
        "### Interpreting Model Coefficients\n",
        "\n",
        "How do we interpret the Age coefficient ($\\beta_1$)?\n",
        "- A \"unit\" increase in Age of the vehicle is **associated with** a -166.99 \"unit\" decrease in the price of the vehicle.\n",
        "\n",
        "Note that if an increase in Age was associated with a **increase** in price, $\\beta_1$ would be **positive**."
      ]
    },
    {
      "cell_type": "code",
      "execution_count": null,
      "metadata": {
        "id": "ocVHcO2YulK4"
      },
      "outputs": [],
      "source": [
        "# Price = -166.99 * Age + 20065.11\n",
        "\n",
        "# Age=0 (No Age of the car) -> 20065.11 Baseline price\n",
        "# For every unit increase of Age - price decrease by - 166.99\n",
        "\n",
        "print('The value of slope is: ',linreg.coef_)\n",
        "print('The value of Intercept is: ',linreg.intercept_)"
      ]
    },
    {
      "cell_type": "code",
      "execution_count": null,
      "metadata": {
        "id": "J1mMfdzBdlMW"
      },
      "outputs": [],
      "source": [
        "# We want to plot the sequential performance of the model on every iteration\n",
        "# adding input parameters one by one,\n",
        "# Plot the change in performance of the model with addition of i"
      ]
    },
    {
      "cell_type": "markdown",
      "metadata": {
        "id": "owZUPhv7ulK5"
      },
      "source": [
        "## Hypothesis Testing and p-values\n",
        "\n",
        "Generally speaking, you start with a **null hypothesis** and an **alternative hypothesis** (that is opposite the null). Then, you check whether the data supports **rejecting the null hypothesis** or **failing to reject the null hypothesis**.\n",
        "\n",
        "(Note that \"failing to reject\" the null is not the same as \"accepting\" the null hypothesis. The alternative hypothesis may indeed be true, except that you just don't have enough data to show that.)\n",
        "\n",
        "As it relates to model coefficients, here is the conventional hypothesis test:\n",
        "- **null hypothesis:** There is no relationship between Age and Price (and thus $\\beta_1$ equals zero)\n",
        "- **alternative hypothesis:** There is a relationship between Age and Price (and thus $\\beta_1$ is not equal to zero)\n",
        "\n",
        "How do we test this hypothesis? Intuitively, we reject the null (and thus believe the alternative) if the 95% confidence interval **does not include zero**. Conversely, the **p-value** represents the probability that the coefficient is actually zero:"
      ]
    },
    {
      "cell_type": "code",
      "execution_count": null,
      "metadata": {
        "id": "XXOBVP_KulK6"
      },
      "outputs": [],
      "source": [
        "# Significant relationship between input and output or not\n",
        "# p-value -> <0.05 - there is a significant relationship,\n",
        "# p-value -> >0.05 - there is no significant relationship between Input and Output"
      ]
    },
    {
      "cell_type": "markdown",
      "metadata": {
        "id": "wYaUu74OulK7"
      },
      "source": [
        "# P low ( <0.05 ), null go or P 1 null stay"
      ]
    },
    {
      "cell_type": "code",
      "execution_count": null,
      "metadata": {
        "id": "liv3PgohdlMW",
        "scrolled": false
      },
      "outputs": [],
      "source": [
        "X_train"
      ]
    },
    {
      "cell_type": "code",
      "execution_count": null,
      "metadata": {
        "id": "WOIFhLbLulK8"
      },
      "outputs": [],
      "source": [
        "from sklearn.feature_selection import f_regression\n",
        "fregression = f_regression(X_train, y_train) #returns Fvalues of features; p values of features\n",
        "fregression[1]\n",
        "\n",
        "# array([0.00000000e+00, 1.02907013e-91])) # p-value"
      ]
    },
    {
      "cell_type": "markdown",
      "metadata": {
        "id": "kI43277NulK_"
      },
      "source": [
        "a p-value less than 0.05 is one way to decide whether there is likely a relationship between the feature and the response. (Again, using 0.05 as the cutoff is just a convention.)\n",
        "\n",
        "In this case, the p-value for Age is far less than 0.05, and so we **believe** that there is a relationship between Age and Price.\n",
        "\n",
        "Note that we generally ignore the p-value for the intercept."
      ]
    },
    {
      "cell_type": "code",
      "execution_count": null,
      "metadata": {
        "id": "5qfhGxkSdlMX"
      },
      "outputs": [],
      "source": []
    },
    {
      "cell_type": "code",
      "execution_count": null,
      "metadata": {
        "id": "jkka3IgFulLA"
      },
      "outputs": [],
      "source": [
        "# Printing some sample values of prediction\n",
        "TestingDataResults = pd.DataFrame(data=X_test, columns=Predictors)\n",
        "TestingDataResults[TargetVariable] = y_test\n",
        "TestingDataResults.head()\n",
        "TestingDataResults[('Predicted_'+TargetVariable)]=np.round(y_pred)\n",
        "TestingDataResults.head()"
      ]
    },
    {
      "cell_type": "code",
      "execution_count": null,
      "metadata": {
        "id": "3iQRYQEvdlMX"
      },
      "outputs": [],
      "source": [
        "# Visualizing the line of best fit\n",
        "plt.figure(figsize=(15,6))\n",
        "plt.scatter(x=TestingDataResults['Age'] , y=TestingDataResults['Price'])\n",
        "plt.plot(TestingDataResults['Age'] , TestingDataResults['Predicted_Price'], color='red')\n",
        "plt.show()"
      ]
    },
    {
      "cell_type": "code",
      "execution_count": null,
      "metadata": {
        "id": "sVoCexlAulLB"
      },
      "outputs": [],
      "source": [
        "y_error = y_pred - y_test\n",
        "\n",
        "x = np.arange(1,len(y_pred)+1)\n",
        "plt.figure(figsize=(15,6))\n",
        "plt.plot(x,y_error , label = 'Error')\n",
        "plt.legend()\n",
        "plt.show()"
      ]
    },
    {
      "cell_type": "markdown",
      "source": [
        "#linear regression error should be homoscedastic"
      ],
      "metadata": {
        "id": "S57rG2_Wpnbu"
      }
    },
    {
      "cell_type": "code",
      "source": [
        "y_error.hist(figsize=(15,5))\n",
        "plt.show()"
      ],
      "metadata": {
        "id": "WnA4oBcXpg7A"
      },
      "execution_count": null,
      "outputs": []
    },
    {
      "cell_type": "code",
      "execution_count": null,
      "metadata": {
        "id": "Y2difjY-ulLC"
      },
      "outputs": [],
      "source": [
        "x=np.arange(1,len(y_test)+1)\n",
        "plt.figure(figsize=(20,6))\n",
        "plt.plot(x,y_test,label='Actual')\n",
        "plt.plot(x,y_pred,label='Predicted')\n",
        "plt.title(\"Actual Vs Predicted (Test set)\")\n",
        "plt.legend(loc=\"best\")\n",
        "plt.grid(True)\n",
        "plt.show()"
      ]
    },
    {
      "cell_type": "markdown",
      "metadata": {
        "id": "K2wISOpbulLO"
      },
      "source": [
        "# Polynomial Regression\n",
        "Many relationships of interest, however, are not strictly linear. Often we want to model a non-linear relationship—for example, the relationship between the number of hours a student studies and the score she gets on the test. Intuitively, we can imagine there is a big difference in test scores between students who study for one hour compared to students who did not study at all. However, there is a much smaller difference in test scores between a student who studied for 99\n",
        "hours and a student who studied for 100 hours. The effect one hour of studying has on a student’s test score decreases as the number of hours increases.\n",
        "\n",
        "What if your data is actually more complex than a simple straight line? Surprisingly, you can actually use a linear model to fit nonlinear data. A simple way to do this is to add powers of each feature as new features, then train a linear model on this extended set of features. This technique is called Polynomial Regression."
      ]
    },
    {
      "cell_type": "code",
      "execution_count": null,
      "metadata": {
        "id": "gwXCV9OsulLP"
      },
      "outputs": [],
      "source": [
        "# Convert our linear data - to polynomial data and train a regression model"
      ]
    },
    {
      "cell_type": "code",
      "execution_count": null,
      "metadata": {
        "id": "FR151kZ_ulLQ"
      },
      "outputs": [],
      "source": [
        "# Import libraries for Polynomial regression\n",
        "from sklearn.preprocessing import PolynomialFeatures\n",
        "from sklearn.linear_model import LinearRegression"
      ]
    },
    {
      "cell_type": "code",
      "execution_count": null,
      "metadata": {
        "id": "aHoRN-zzulLR"
      },
      "outputs": [],
      "source": [
        "# X - X` ( original independent features - polynomial features )\n",
        "# y -> y"
      ]
    },
    {
      "cell_type": "code",
      "execution_count": null,
      "metadata": {
        "id": "XRpUsN60ulLR"
      },
      "outputs": [],
      "source": [
        "# y = ax1 + bx2**2 + cx1x3 + d\n",
        "# x1, x2, x3  -> Original Form\n",
        "# y = 2.3x1+ 0.00005*x2, 0.00002*x3, 0.00005*x1^2, 3.4*x2^2, x3^2 , x1x2, x2x3, x3x1 -> Polynomial form ( Max Power = 2)"
      ]
    },
    {
      "cell_type": "code",
      "execution_count": null,
      "metadata": {
        "id": "6hTcVGpyulLS"
      },
      "outputs": [],
      "source": [
        "#read csv file\n",
        "#data_link = \"http://www-bcf.usc.edu/~gareth/ISL/Advertising.csv\"\n",
        "#data = pd.read_csv(data_link, index_col=0)\n",
        "CarPricesData.head()"
      ]
    },
    {
      "cell_type": "code",
      "execution_count": null,
      "metadata": {
        "id": "iwReCApRulLT"
      },
      "outputs": [],
      "source": [
        "# create a Python list of feature names\n",
        "feature_names=[\"Age\",\"KM\"]\n",
        "# feature_names=[\"Age\"]\n",
        "\n",
        "# use the list to select a subset of the original DataFrame\n",
        "X = CarPricesData[feature_names]\n",
        "\n",
        "# sales\n",
        "y = CarPricesData['Price']"
      ]
    },
    {
      "cell_type": "code",
      "execution_count": null,
      "metadata": {
        "id": "YGw2wJ2fulLU"
      },
      "outputs": [],
      "source": [
        "from sklearn.preprocessing import PolynomialFeatures\n",
        "# PolynomialFeatures (prepreprocessing)\n",
        "poly = PolynomialFeatures(degree=3) # MUST SPECIFY THE MAXIMUM DEGREE of the Polynomial\n",
        "\n",
        "# X_poly = poly.fit_transform(X)\n",
        "# train_test_split(X_poly , y)\n",
        "\n",
        "X = poly.fit_transform(X) # poly.fit(X) , poly.transform(X) => poly.fit_transform(X)"
      ]
    },
    {
      "cell_type": "code",
      "execution_count": null,
      "metadata": {
        "id": "Iy1C1VFbulLU"
      },
      "outputs": [],
      "source": [
        "# Polynomial feature Transformation before or after doing the train test split"
      ]
    },
    {
      "cell_type": "code",
      "execution_count": null,
      "metadata": {
        "id": "TqeQwTQSulLV"
      },
      "outputs": [],
      "source": [
        "# Splitting X and y into training and testing sets\n",
        "X_train, X_test, y_train, y_test = train_test_split(X, y, random_state=1,test_size=0.20)"
      ]
    },
    {
      "cell_type": "code",
      "execution_count": null,
      "metadata": {
        "id": "t1MiPyyIulLX"
      },
      "outputs": [],
      "source": [
        "X_train"
      ]
    },
    {
      "cell_type": "code",
      "execution_count": null,
      "metadata": {
        "id": "ghFAxbI1ulLn"
      },
      "outputs": [],
      "source": [
        "# target data - what we are predicting - no change / transformation\n",
        "# X values - X_train and X_test"
      ]
    },
    {
      "cell_type": "code",
      "execution_count": null,
      "metadata": {
        "id": "V3xzOkliulLo"
      },
      "outputs": [],
      "source": []
    },
    {
      "cell_type": "code",
      "execution_count": null,
      "metadata": {
        "id": "1TCOI2qwulLo"
      },
      "outputs": [],
      "source": [
        "# Linear Regression Model\n",
        "plinreg = LinearRegression()\n",
        "\n",
        "# fit the model to the training data (learn the coefficients)\n",
        "plinreg.fit(X_train, y_train)"
      ]
    },
    {
      "cell_type": "code",
      "execution_count": null,
      "metadata": {
        "id": "VWH3hI0DulLp"
      },
      "outputs": [],
      "source": [
        "# make predictions on the testing set\n",
        "y_pred = plinreg.predict(X_test)"
      ]
    },
    {
      "cell_type": "code",
      "execution_count": null,
      "metadata": {
        "id": "QfnNeY-2ulLq"
      },
      "outputs": [],
      "source": [
        "# compute the RMSE of our predictions\n",
        "print(\"RMSE=\",np.sqrt(metrics.mean_squared_error(y_test, y_pred)))\n",
        "print(\"Rsquare=\",metrics.r2_score(y_test,y_pred))\n"
      ]
    },
    {
      "cell_type": "code",
      "execution_count": null,
      "metadata": {
        "id": "73nlqUb-ulLq"
      },
      "outputs": [],
      "source": [
        "df_predicted=pd.DataFrame()\n",
        "df_predicted['Actual']=y_test\n",
        "df_predicted['Predicted']=y_pred\n",
        "df_predicted"
      ]
    },
    {
      "cell_type": "code",
      "execution_count": null,
      "metadata": {
        "id": "jJMWjTMeulLs"
      },
      "outputs": [],
      "source": [
        "x=np.arange(1,len(y_test)+1)\n",
        "plt.figure(figsize=(15,6))\n",
        "plt.plot(x,y_test,label='Actual')\n",
        "plt.plot(x,y_pred,label='Predicted')\n",
        "plt.title(\"Actual Vs Predicted (Test set)\")\n",
        "plt.legend(loc=\"best\")\n",
        "plt.grid(True)"
      ]
    },
    {
      "cell_type": "markdown",
      "metadata": {
        "id": "C4kv5lGJdlMc"
      },
      "source": [
        "# Reducing Variance with Regularization\n",
        "\n",
        "- Problem</br>\n",
        "    You want to reduce the variance of your linear regression model\n",
        "\n",
        "- Solution</br>\n",
        "    Use a learning algorithm that includes a shrinkage penalty (also called regularization) like ridge regression and lasso regression:"
      ]
    },
    {
      "cell_type": "code",
      "execution_count": null,
      "metadata": {
        "id": "iE-Z8a5yulLs"
      },
      "outputs": [],
      "source": [
        "# import necessary library\n",
        "from sklearn.linear_model import Ridge\n",
        "# from sklearn.datasets import load_boston\n",
        "from sklearn.preprocessing import StandardScaler\n",
        "\n",
        "# load the data\n",
        "data_url = \"http://lib.stat.cmu.edu/datasets/boston\"\n",
        "raw_df = pd.read_csv(data_url, sep=\"\\s+\", skiprows=22, header=None)\n",
        "data = np.hstack([raw_df.values[::2, :], raw_df.values[1::2, :2]])\n",
        "target = raw_df.values[1::2, 2]\n",
        "\n",
        "# scaling the datapoints\n",
        "scaler = StandardScaler()\n",
        "features_standardized = scaler.fit_transform(data)\n",
        "\n",
        "# build the model\n",
        "regression = Ridge(alpha=0.5)\n",
        "model = regression.fit(features_standardized, target)"
      ]
    },
    {
      "cell_type": "markdown",
      "metadata": {
        "id": "zaDDO7e5dlMc"
      },
      "source": [
        "In standard linear regression the model trains to minimize the sum of squared error between the true($y_{i}$) and prediction ($\\hat{y}$) target values, or residual sum of squares (RSS):\n",
        "$$RSS==\\sum^n_{i=1} (y_{i}-\\hat{y}_i)^2$$\n",
        "Regularized regression learners are similar, except they attempt to minimize RSS and some penalty for the total size of the coefficient values, called a shrinkage penalty because it attempts to \"shrink\" the model. There are two common types of regularized learners for linear regression: ridge regression and the lasso. The only formal difference is the type of shrinkage penalty used. In ridge regression, the shrinkage penalty is a tuning hyperparameter multiplied by the squared sum of all coefficients:\n",
        "$$RSS+\\alpha \\sum^p_{j=1} \\hat{\\beta_{j}}^2$$\n",
        "where $\\hat{\\beta_{j}}$ is the coefficient of the jth of p features and $\\alpha$ is a hyperparameter (discussed next). The lasso is similar, except the shrinkage penalty is a tuning hyperparmeter multiplied by the squared sum of all coefficients:\n",
        "$$\\frac{1}{2n}RSS+\\alpha \\sum^p_{j=1} \\begin{vmatrix}\\hat{\\beta_{j}}\\end{vmatrix}$$\n",
        "where n is the number of observations. So which one should we use? A a very general rule of thumb, ridge regression often produces slightly better predictions than lasso, but lasso (for reasons we will discuss next) produces more interpretable models. If we want a balance between, ridge and lasso's penalty functions we can use elastic net, which is simply a regression model with both penalties included. Regardless of which one we use, both ridge and lasso regresions can penalize large or complex models by including coefficient values in the loss funciton we are trying to minimize\n",
        "\n",
        "The hyper parameter $\\alpha$ lets us control how much we penalize the coefficients, with higher values of $\\alpha$ creating simpler models. The ideal value of $\\alpha$ should be tuned like any other hyperparameter. In scikit-learn, $\\alpha$ is set using the alpha parameter.\n",
        "\n",
        "scikit-learn includes a RidgeCV method that allows us to select the ideal value for $\\alpha$ :"
      ]
    },
    {
      "cell_type": "code",
      "execution_count": null,
      "metadata": {
        "id": "N4MyQ_zmdlMc"
      },
      "outputs": [],
      "source": [
        "from sklearn.linear_model import RidgeCV\n",
        "\n",
        "regr_cv = RidgeCV(alphas=[0.1, 1.0, 10.0])\n",
        "\n",
        "model_cv = regr_cv.fit(features_standardized, target)\n",
        "\n",
        "model_cv.coef_"
      ]
    },
    {
      "cell_type": "code",
      "execution_count": null,
      "metadata": {
        "id": "CFarIfSvdlMc"
      },
      "outputs": [],
      "source": [
        "# view alpha\n",
        "model_cv.alpha_"
      ]
    },
    {
      "cell_type": "markdown",
      "metadata": {
        "id": "NaumuqQ_dlMd"
      },
      "source": [
        "One final note: because in linear regression the value of the coefficients is partially determined by the scale of the feature, and in regularized models all coefficients are summed together, we must make sure to standardize the feature prior to training"
      ]
    },
    {
      "cell_type": "markdown",
      "metadata": {
        "id": "4hmne9JAdlMd"
      },
      "source": [
        "# Reducing Features with Lasso Regression\n",
        "\n",
        "- Problem</br>\n",
        "    You want to simplify your linear regression model by reducing the number of features.</br>\n",
        "\n",
        "- Solution</br>\n",
        "    Use a lasso regression"
      ]
    },
    {
      "cell_type": "code",
      "execution_count": null,
      "metadata": {
        "id": "Tf_mqmcZdlMd"
      },
      "outputs": [],
      "source": [
        "# import necessary library\n",
        "from sklearn.linear_model import Ridge\n",
        "# from sklearn.datasets import load_boston\n",
        "from sklearn.preprocessing import StandardScaler\n",
        "\n",
        "# load the data\n",
        "data_url = \"http://lib.stat.cmu.edu/datasets/boston\"\n",
        "raw_df = pd.read_csv(data_url, sep=\"\\s+\", skiprows=22, header=None)\n",
        "data = np.hstack([raw_df.values[::2, :], raw_df.values[1::2, :2]])\n",
        "target = raw_df.values[1::2, 2]\n",
        "\n",
        "# scaling the datapoints\n",
        "scaler = StandardScaler()\n",
        "features_standardized = scaler.fit_transform(data)\n",
        "\n",
        "# build the model\n",
        "regression = Ridge(alpha=0.5)\n",
        "model = regression.fit(features_standardized, target)"
      ]
    },
    {
      "cell_type": "markdown",
      "metadata": {
        "id": "kfHozv2UdlMd"
      },
      "source": [
        "One interesting characteristic of lasso regression's penalty is that it can shrink the coefficients of a model to zero, effectively reducing the number of features in the model. For example, in our solution we set $\\alpha$ to 0.5 and we can see that many of the coefficients are 0, meaning their corresponding features are not used in the model:"
      ]
    },
    {
      "cell_type": "code",
      "execution_count": null,
      "metadata": {
        "id": "UOiwSWAkdlMd"
      },
      "outputs": [],
      "source": [
        "model.coef_"
      ]
    },
    {
      "cell_type": "markdown",
      "metadata": {
        "id": "6r63fT2gdlMd"
      },
      "source": [
        "However if we increase $\\alpha$ to a much higher value, we see that lierally none of the features are being used:"
      ]
    },
    {
      "cell_type": "code",
      "execution_count": null,
      "metadata": {
        "id": "XAdOJvbxdlMd"
      },
      "outputs": [],
      "source": [
        "from sklearn.linear_model import Lasso\n",
        "regression_a10 = Lasso(alpha=10)\n",
        "model_a10 = regression_a10.fit(features_standardized, target)\n",
        "model_a10.coef_"
      ]
    },
    {
      "cell_type": "markdown",
      "metadata": {
        "id": "BbHXiqHjdlMd"
      },
      "source": [
        "The practical benefit of this effect is that it means that we could include 100 features in our feature matrix and then, through adjusting lasso's $\\alpha$ hyperparameter, produce a model that uses only 10 (for instance) of the most important features. This lets us reduce variance whiel improving interpretability of our model (since fewer features is easier to explain)"
      ]
    }
  ],
  "metadata": {
    "colab": {
      "provenance": []
    },
    "kernelspec": {
      "display_name": "Python 3 (ipykernel)",
      "language": "python",
      "name": "python3"
    },
    "language_info": {
      "codemirror_mode": {
        "name": "ipython",
        "version": 3
      },
      "file_extension": ".py",
      "mimetype": "text/x-python",
      "name": "python",
      "nbconvert_exporter": "python",
      "pygments_lexer": "ipython3",
      "version": "3.7.12"
    },
    "vscode": {
      "interpreter": {
        "hash": "11938c6bc6919ae2720b4d5011047913343b08a43b18698fd82dedb0d4417594"
      }
    }
  },
  "nbformat": 4,
  "nbformat_minor": 0
}